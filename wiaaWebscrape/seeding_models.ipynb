{
 "cells": [
  {
   "cell_type": "code",
   "execution_count": 142,
   "metadata": {},
   "outputs": [],
   "source": [
    "import pandas as pd\n",
    "import numpy as np\n",
    "import matplotlib.pyplot as plt\n",
    "import scipy.stats as stats\n",
    "from datetime import datetime\n",
    "import statsmodels as sms\n",
    "import warnings\n",
    "\n",
    "warnings.simplefilter(\"ignore\")"
   ]
  },
  {
   "cell_type": "code",
   "execution_count": 143,
   "metadata": {},
   "outputs": [],
   "source": [
    "data_2223 = pd.read_csv(\"seeding_metrics_wiaa_gbb_2023.csv\").sort_values(by=[\"Division\", \"Sectional\", \"Seed\"]).drop_duplicates().reset_index(drop=True)"
   ]
  },
  {
   "cell_type": "code",
   "execution_count": 144,
   "metadata": {},
   "outputs": [
    {
     "data": {
      "text/html": "<div>\n<style scoped>\n    .dataframe tbody tr th:only-of-type {\n        vertical-align: middle;\n    }\n\n    .dataframe tbody tr th {\n        vertical-align: top;\n    }\n\n    .dataframe thead th {\n        text-align: right;\n    }\n</style>\n<table border=\"1\" class=\"dataframe\">\n  <thead>\n    <tr style=\"text-align: right;\">\n      <th></th>\n      <th>Team</th>\n      <th>WP</th>\n      <th>OWP</th>\n      <th>DOWP</th>\n      <th>OOWP</th>\n      <th>DOOWP</th>\n      <th>Division</th>\n      <th>Sectional</th>\n      <th>Seed</th>\n      <th>Year</th>\n    </tr>\n  </thead>\n  <tbody>\n    <tr>\n      <th>0</th>\n      <td>Neenah</td>\n      <td>0.95652</td>\n      <td>0.58158</td>\n      <td>0.59226</td>\n      <td>0.56107</td>\n      <td>0.58390</td>\n      <td>1</td>\n      <td>1A</td>\n      <td>1</td>\n      <td>2023</td>\n    </tr>\n    <tr>\n      <th>1</th>\n      <td>Superior</td>\n      <td>0.95238</td>\n      <td>0.53456</td>\n      <td>0.52417</td>\n      <td>0.51532</td>\n      <td>0.53143</td>\n      <td>1</td>\n      <td>1A</td>\n      <td>2</td>\n      <td>2023</td>\n    </tr>\n    <tr>\n      <th>2</th>\n      <td>Hortonville</td>\n      <td>0.86364</td>\n      <td>0.61972</td>\n      <td>0.58710</td>\n      <td>0.55254</td>\n      <td>0.56861</td>\n      <td>1</td>\n      <td>1A</td>\n      <td>3</td>\n      <td>2023</td>\n    </tr>\n    <tr>\n      <th>3</th>\n      <td>Hudson</td>\n      <td>0.86364</td>\n      <td>0.60000</td>\n      <td>0.55636</td>\n      <td>0.54941</td>\n      <td>0.52959</td>\n      <td>1</td>\n      <td>1A</td>\n      <td>4</td>\n      <td>2023</td>\n    </tr>\n    <tr>\n      <th>4</th>\n      <td>Eau Claire Memorial</td>\n      <td>0.76190</td>\n      <td>0.55754</td>\n      <td>0.49609</td>\n      <td>0.53870</td>\n      <td>0.53768</td>\n      <td>1</td>\n      <td>1A</td>\n      <td>5</td>\n      <td>2023</td>\n    </tr>\n    <tr>\n      <th>5</th>\n      <td>Marshfield</td>\n      <td>0.78261</td>\n      <td>0.55204</td>\n      <td>0.46429</td>\n      <td>0.54013</td>\n      <td>0.54103</td>\n      <td>1</td>\n      <td>1A</td>\n      <td>6</td>\n      <td>2023</td>\n    </tr>\n    <tr>\n      <th>6</th>\n      <td>Wausau West</td>\n      <td>0.61905</td>\n      <td>0.54157</td>\n      <td>0.44344</td>\n      <td>0.55554</td>\n      <td>0.53065</td>\n      <td>1</td>\n      <td>1A</td>\n      <td>7</td>\n      <td>2023</td>\n    </tr>\n    <tr>\n      <th>7</th>\n      <td>Stevens Point</td>\n      <td>0.68182</td>\n      <td>0.50714</td>\n      <td>0.39592</td>\n      <td>0.53988</td>\n      <td>0.55217</td>\n      <td>1</td>\n      <td>1A</td>\n      <td>8</td>\n      <td>2023</td>\n    </tr>\n    <tr>\n      <th>8</th>\n      <td>Oshkosh West</td>\n      <td>0.65217</td>\n      <td>0.49292</td>\n      <td>0.35417</td>\n      <td>0.55354</td>\n      <td>0.54250</td>\n      <td>1</td>\n      <td>1A</td>\n      <td>9</td>\n      <td>2023</td>\n    </tr>\n    <tr>\n      <th>9</th>\n      <td>Appleton East</td>\n      <td>0.47826</td>\n      <td>0.61003</td>\n      <td>0.48333</td>\n      <td>0.54358</td>\n      <td>0.54667</td>\n      <td>1</td>\n      <td>1A</td>\n      <td>10</td>\n      <td>2023</td>\n    </tr>\n  </tbody>\n</table>\n</div>",
      "text/plain": "                  Team       WP      OWP     DOWP     OOWP    DOOWP  Division  \\\n0               Neenah  0.95652  0.58158  0.59226  0.56107  0.58390         1   \n1             Superior  0.95238  0.53456  0.52417  0.51532  0.53143         1   \n2          Hortonville  0.86364  0.61972  0.58710  0.55254  0.56861         1   \n3               Hudson  0.86364  0.60000  0.55636  0.54941  0.52959         1   \n4  Eau Claire Memorial  0.76190  0.55754  0.49609  0.53870  0.53768         1   \n5           Marshfield  0.78261  0.55204  0.46429  0.54013  0.54103         1   \n6          Wausau West  0.61905  0.54157  0.44344  0.55554  0.53065         1   \n7        Stevens Point  0.68182  0.50714  0.39592  0.53988  0.55217         1   \n8         Oshkosh West  0.65217  0.49292  0.35417  0.55354  0.54250         1   \n9        Appleton East  0.47826  0.61003  0.48333  0.54358  0.54667         1   \n\n  Sectional  Seed  Year  \n0        1A     1  2023  \n1        1A     2  2023  \n2        1A     3  2023  \n3        1A     4  2023  \n4        1A     5  2023  \n5        1A     6  2023  \n6        1A     7  2023  \n7        1A     8  2023  \n8        1A     9  2023  \n9        1A    10  2023  "
     },
     "execution_count": 144,
     "metadata": {},
     "output_type": "execute_result"
    }
   ],
   "source": [
    "data_2223.head(10)"
   ]
  },
  {
   "cell_type": "code",
   "execution_count": 145,
   "metadata": {},
   "outputs": [],
   "source": [
    "d1s1a = data_2223[(data_2223[\"Division\"] == 1) & (data_2223[\"Sectional\"] == \"1A\")].reset_index(drop=True)\n",
    "d1s2a = data_2223[(data_2223[\"Division\"] == 1) & (data_2223[\"Sectional\"] == \"2A\")].reset_index(drop=True)\n",
    "d1s3a = data_2223[(data_2223[\"Division\"] == 1) & (data_2223[\"Sectional\"] == \"3A\")].reset_index(drop=True)\n",
    "d1s4a = data_2223[(data_2223[\"Division\"] == 1) & (data_2223[\"Sectional\"] == \"4A\")].reset_index(drop=True)\n",
    "d2s1a = data_2223[(data_2223[\"Division\"] == 2) & (data_2223[\"Sectional\"] == \"1A\")].reset_index(drop=True)\n",
    "d2s1b = data_2223[(data_2223[\"Division\"] == 2) & (data_2223[\"Sectional\"] == \"1B\")].reset_index(drop=True)\n",
    "d2s2a = data_2223[(data_2223[\"Division\"] == 2) & (data_2223[\"Sectional\"] == \"2A\")].reset_index(drop=True)\n",
    "d2s2b = data_2223[(data_2223[\"Division\"] == 2) & (data_2223[\"Sectional\"] == \"2B\")].reset_index(drop=True)\n",
    "d2s3a = data_2223[(data_2223[\"Division\"] == 2) & (data_2223[\"Sectional\"] == \"3A\")].reset_index(drop=True)\n",
    "d2s3b = data_2223[(data_2223[\"Division\"] == 2) & (data_2223[\"Sectional\"] == \"3B\")].reset_index(drop=True)\n",
    "d2s4a = data_2223[(data_2223[\"Division\"] == 2) & (data_2223[\"Sectional\"] == \"4A\")].reset_index(drop=True)\n",
    "d2s4b = data_2223[(data_2223[\"Division\"] == 2) & (data_2223[\"Sectional\"] == \"4B\")].reset_index(drop=True)\n",
    "d3s1a = data_2223[(data_2223[\"Division\"] == 3) & (data_2223[\"Sectional\"] == \"1A\")].reset_index(drop=True)\n",
    "d3s1b = data_2223[(data_2223[\"Division\"] == 3) & (data_2223[\"Sectional\"] == \"1B\")].reset_index(drop=True)\n",
    "d3s2a = data_2223[(data_2223[\"Division\"] == 3) & (data_2223[\"Sectional\"] == \"2A\")].reset_index(drop=True)\n",
    "d3s2b = data_2223[(data_2223[\"Division\"] == 3) & (data_2223[\"Sectional\"] == \"2B\")].reset_index(drop=True)\n",
    "d3s3a = data_2223[(data_2223[\"Division\"] == 3) & (data_2223[\"Sectional\"] == \"3A\")].reset_index(drop=True)\n",
    "d3s3b = data_2223[(data_2223[\"Division\"] == 3) & (data_2223[\"Sectional\"] == \"3B\")].reset_index(drop=True)\n",
    "d3s4a = data_2223[(data_2223[\"Division\"] == 3) & (data_2223[\"Sectional\"] == \"4A\")].reset_index(drop=True)\n",
    "d3s4b = data_2223[(data_2223[\"Division\"] == 3) & (data_2223[\"Sectional\"] == \"4B\")].reset_index(drop=True)\n",
    "d4s1a = data_2223[(data_2223[\"Division\"] == 4) & (data_2223[\"Sectional\"] == \"1A\")].reset_index(drop=True)\n",
    "d4s1b = data_2223[(data_2223[\"Division\"] == 4) & (data_2223[\"Sectional\"] == \"1B\")].reset_index(drop=True)\n",
    "d4s2a = data_2223[(data_2223[\"Division\"] == 4) & (data_2223[\"Sectional\"] == \"2A\")].reset_index(drop=True)\n",
    "d4s2b = data_2223[(data_2223[\"Division\"] == 4) & (data_2223[\"Sectional\"] == \"2B\")].reset_index(drop=True)\n",
    "d4s3a = data_2223[(data_2223[\"Division\"] == 4) & (data_2223[\"Sectional\"] == \"3A\")].reset_index(drop=True)\n",
    "d4s3b = data_2223[(data_2223[\"Division\"] == 4) & (data_2223[\"Sectional\"] == \"3B\")].reset_index(drop=True)\n",
    "d4s4a = data_2223[(data_2223[\"Division\"] == 4) & (data_2223[\"Sectional\"] == \"4A\")].reset_index(drop=True)\n",
    "d4s4b = data_2223[(data_2223[\"Division\"] == 4) & (data_2223[\"Sectional\"] == \"4B\")].reset_index(drop=True)\n",
    "d5s1a = data_2223[(data_2223[\"Division\"] == 5) & (data_2223[\"Sectional\"] == \"1A\")].reset_index(drop=True)\n",
    "d5s1b = data_2223[(data_2223[\"Division\"] == 5) & (data_2223[\"Sectional\"] == \"1B\")].reset_index(drop=True)\n",
    "d5s2a = data_2223[(data_2223[\"Division\"] == 5) & (data_2223[\"Sectional\"] == \"2A\")].reset_index(drop=True)\n",
    "d5s2b = data_2223[(data_2223[\"Division\"] == 5) & (data_2223[\"Sectional\"] == \"2B\")].reset_index(drop=True)\n",
    "d5s3a = data_2223[(data_2223[\"Division\"] == 5) & (data_2223[\"Sectional\"] == \"3A\")].reset_index(drop=True)\n",
    "d5s3b = data_2223[(data_2223[\"Division\"] == 5) & (data_2223[\"Sectional\"] == \"3B\")].reset_index(drop=True)\n",
    "d5s4a = data_2223[(data_2223[\"Division\"] == 5) & (data_2223[\"Sectional\"] == \"4A\")].reset_index(drop=True)\n",
    "d5s4b = data_2223[(data_2223[\"Division\"] == 5) & (data_2223[\"Sectional\"] == \"4B\")].reset_index(drop=True)"
   ]
  },
  {
   "cell_type": "code",
   "execution_count": 146,
   "metadata": {},
   "outputs": [
    {
     "data": {
      "text/html": "<div>\n<style scoped>\n    .dataframe tbody tr th:only-of-type {\n        vertical-align: middle;\n    }\n\n    .dataframe tbody tr th {\n        vertical-align: top;\n    }\n\n    .dataframe thead th {\n        text-align: right;\n    }\n</style>\n<table border=\"1\" class=\"dataframe\">\n  <thead>\n    <tr style=\"text-align: right;\">\n      <th></th>\n      <th>Team</th>\n      <th>WP</th>\n      <th>OWP</th>\n      <th>DOWP</th>\n      <th>OOWP</th>\n      <th>DOOWP</th>\n      <th>Division</th>\n      <th>Sectional</th>\n      <th>Seed</th>\n      <th>Year</th>\n    </tr>\n  </thead>\n  <tbody>\n    <tr>\n      <th>0</th>\n      <td>Wabeno/Laona</td>\n      <td>0.72727</td>\n      <td>0.62664</td>\n      <td>0.52419</td>\n      <td>0.52389</td>\n      <td>0.51860</td>\n      <td>5</td>\n      <td>2B</td>\n      <td>1</td>\n      <td>2023</td>\n    </tr>\n    <tr>\n      <th>1</th>\n      <td>Sevastopol</td>\n      <td>0.95238</td>\n      <td>0.46891</td>\n      <td>0.40187</td>\n      <td>0.51599</td>\n      <td>0.50353</td>\n      <td>5</td>\n      <td>2B</td>\n      <td>2</td>\n      <td>2023</td>\n    </tr>\n    <tr>\n      <th>2</th>\n      <td>Lena</td>\n      <td>0.85714</td>\n      <td>0.47468</td>\n      <td>0.41091</td>\n      <td>0.49633</td>\n      <td>0.52648</td>\n      <td>5</td>\n      <td>2B</td>\n      <td>3</td>\n      <td>2023</td>\n    </tr>\n    <tr>\n      <th>3</th>\n      <td>Niagara</td>\n      <td>0.77273</td>\n      <td>0.47541</td>\n      <td>0.41364</td>\n      <td>0.52350</td>\n      <td>0.54941</td>\n      <td>5</td>\n      <td>2B</td>\n      <td>4</td>\n      <td>2023</td>\n    </tr>\n    <tr>\n      <th>4</th>\n      <td>Three Lakes</td>\n      <td>0.57143</td>\n      <td>0.54958</td>\n      <td>0.39614</td>\n      <td>0.51741</td>\n      <td>0.54261</td>\n      <td>5</td>\n      <td>2B</td>\n      <td>5</td>\n      <td>2023</td>\n    </tr>\n    <tr>\n      <th>5</th>\n      <td>Florence</td>\n      <td>0.61905</td>\n      <td>0.51840</td>\n      <td>0.39000</td>\n      <td>0.51227</td>\n      <td>0.50680</td>\n      <td>5</td>\n      <td>2B</td>\n      <td>6</td>\n      <td>2023</td>\n    </tr>\n    <tr>\n      <th>6</th>\n      <td>Suring</td>\n      <td>0.50000</td>\n      <td>0.58642</td>\n      <td>0.37821</td>\n      <td>0.51043</td>\n      <td>0.49747</td>\n      <td>5</td>\n      <td>2B</td>\n      <td>7</td>\n      <td>2023</td>\n    </tr>\n    <tr>\n      <th>7</th>\n      <td>Gillett</td>\n      <td>0.50000</td>\n      <td>0.44954</td>\n      <td>0.32683</td>\n      <td>0.50837</td>\n      <td>0.52269</td>\n      <td>5</td>\n      <td>2B</td>\n      <td>8</td>\n      <td>2023</td>\n    </tr>\n    <tr>\n      <th>8</th>\n      <td>Wausaukee</td>\n      <td>0.35000</td>\n      <td>0.51316</td>\n      <td>0.26126</td>\n      <td>0.50391</td>\n      <td>0.48589</td>\n      <td>5</td>\n      <td>2B</td>\n      <td>9</td>\n      <td>2023</td>\n    </tr>\n    <tr>\n      <th>9</th>\n      <td>Bowler</td>\n      <td>0.37500</td>\n      <td>0.43357</td>\n      <td>0.18421</td>\n      <td>0.46639</td>\n      <td>0.44098</td>\n      <td>5</td>\n      <td>2B</td>\n      <td>10</td>\n      <td>2023</td>\n    </tr>\n    <tr>\n      <th>10</th>\n      <td>Elcho</td>\n      <td>0.22222</td>\n      <td>0.46382</td>\n      <td>0.17857</td>\n      <td>0.47471</td>\n      <td>0.55116</td>\n      <td>5</td>\n      <td>2B</td>\n      <td>11</td>\n      <td>2023</td>\n    </tr>\n    <tr>\n      <th>11</th>\n      <td>Goodman/Pembine</td>\n      <td>0.31579</td>\n      <td>0.47569</td>\n      <td>0.40000</td>\n      <td>0.49239</td>\n      <td>0.45696</td>\n      <td>5</td>\n      <td>2B</td>\n      <td>12</td>\n      <td>2023</td>\n    </tr>\n    <tr>\n      <th>12</th>\n      <td>Gibraltar</td>\n      <td>0.13636</td>\n      <td>0.44932</td>\n      <td>0.22951</td>\n      <td>0.50178</td>\n      <td>0.52546</td>\n      <td>5</td>\n      <td>2B</td>\n      <td>13</td>\n      <td>2023</td>\n    </tr>\n    <tr>\n      <th>13</th>\n      <td>Saint Thomas Aquinas</td>\n      <td>0.18750</td>\n      <td>0.48770</td>\n      <td>0.50000</td>\n      <td>0.49639</td>\n      <td>0.51117</td>\n      <td>5</td>\n      <td>2B</td>\n      <td>14</td>\n      <td>2023</td>\n    </tr>\n  </tbody>\n</table>\n</div>",
      "text/plain": "                    Team       WP      OWP     DOWP     OOWP    DOOWP  \\\n0           Wabeno/Laona  0.72727  0.62664  0.52419  0.52389  0.51860   \n1             Sevastopol  0.95238  0.46891  0.40187  0.51599  0.50353   \n2                   Lena  0.85714  0.47468  0.41091  0.49633  0.52648   \n3                Niagara  0.77273  0.47541  0.41364  0.52350  0.54941   \n4            Three Lakes  0.57143  0.54958  0.39614  0.51741  0.54261   \n5               Florence  0.61905  0.51840  0.39000  0.51227  0.50680   \n6                 Suring  0.50000  0.58642  0.37821  0.51043  0.49747   \n7                Gillett  0.50000  0.44954  0.32683  0.50837  0.52269   \n8              Wausaukee  0.35000  0.51316  0.26126  0.50391  0.48589   \n9                 Bowler  0.37500  0.43357  0.18421  0.46639  0.44098   \n10                 Elcho  0.22222  0.46382  0.17857  0.47471  0.55116   \n11       Goodman/Pembine  0.31579  0.47569  0.40000  0.49239  0.45696   \n12             Gibraltar  0.13636  0.44932  0.22951  0.50178  0.52546   \n13  Saint Thomas Aquinas  0.18750  0.48770  0.50000  0.49639  0.51117   \n\n    Division Sectional  Seed  Year  \n0          5        2B     1  2023  \n1          5        2B     2  2023  \n2          5        2B     3  2023  \n3          5        2B     4  2023  \n4          5        2B     5  2023  \n5          5        2B     6  2023  \n6          5        2B     7  2023  \n7          5        2B     8  2023  \n8          5        2B     9  2023  \n9          5        2B    10  2023  \n10         5        2B    11  2023  \n11         5        2B    12  2023  \n12         5        2B    13  2023  \n13         5        2B    14  2023  "
     },
     "execution_count": 146,
     "metadata": {},
     "output_type": "execute_result"
    }
   ],
   "source": [
    "d5s2b"
   ]
  },
  {
   "cell_type": "code",
   "execution_count": 147,
   "metadata": {},
   "outputs": [],
   "source": [
    "import statsmodels.api as sms"
   ]
  },
  {
   "cell_type": "code",
   "execution_count": 148,
   "metadata": {},
   "outputs": [
    {
     "name": "stdout",
     "output_type": "stream",
     "text": [
      "   const       WP      OWP     DOWP     OOWP    DOOWP\n",
      "0    1.0  0.95652  0.58158  0.59226  0.56107  0.58390\n",
      "1    1.0  0.95238  0.53456  0.52417  0.51532  0.53143\n",
      "2    1.0  0.86364  0.61972  0.58710  0.55254  0.56861\n",
      "3    1.0  0.86364  0.60000  0.55636  0.54941  0.52959\n",
      "4    1.0  0.76190  0.55754  0.49609  0.53870  0.53768\n"
     ]
    }
   ],
   "source": [
    "# Define target variables - the seed\n",
    "y = np.log(data_2223[\"Seed\"].astype(float))\n",
    "# Define the input variables\n",
    "X = data_2223[[\"WP\", \"OWP\", \"DOWP\", \"OOWP\", \"DOOWP\"]]\n",
    "X = sms.add_constant(X)\n",
    "print(X.head())"
   ]
  },
  {
   "cell_type": "code",
   "execution_count": 149,
   "metadata": {},
   "outputs": [],
   "source": [
    "big_mdl = sms.OLS(y, X)\n",
    "mdl_fit = big_mdl.fit()"
   ]
  },
  {
   "cell_type": "code",
   "execution_count": 150,
   "metadata": {},
   "outputs": [
    {
     "data": {
      "text/html": "<table class=\"simpletable\">\n<caption>OLS Regression Results</caption>\n<tr>\n  <th>Dep. Variable:</th>          <td>Seed</td>       <th>  R-squared:         </th> <td>   0.743</td> \n</tr>\n<tr>\n  <th>Model:</th>                   <td>OLS</td>       <th>  Adj. R-squared:    </th> <td>   0.740</td> \n</tr>\n<tr>\n  <th>Method:</th>             <td>Least Squares</td>  <th>  F-statistic:       </th> <td>   261.8</td> \n</tr>\n<tr>\n  <th>Date:</th>             <td>Tue, 30 Jan 2024</td> <th>  Prob (F-statistic):</th> <td>4.10e-131</td>\n</tr>\n<tr>\n  <th>Time:</th>                 <td>16:06:20</td>     <th>  Log-Likelihood:    </th> <td> -210.73</td> \n</tr>\n<tr>\n  <th>No. Observations:</th>      <td>   459</td>      <th>  AIC:               </th> <td>   433.5</td> \n</tr>\n<tr>\n  <th>Df Residuals:</th>          <td>   453</td>      <th>  BIC:               </th> <td>   458.2</td> \n</tr>\n<tr>\n  <th>Df Model:</th>              <td>     5</td>      <th>                     </th>     <td> </td>    \n</tr>\n<tr>\n  <th>Covariance Type:</th>      <td>nonrobust</td>    <th>                     </th>     <td> </td>    \n</tr>\n</table>\n<table class=\"simpletable\">\n<tr>\n    <td></td>       <th>coef</th>     <th>std err</th>      <th>t</th>      <th>P>|t|</th>  <th>[0.025</th>    <th>0.975]</th>  \n</tr>\n<tr>\n  <th>const</th> <td>    3.3061</td> <td>    0.396</td> <td>    8.344</td> <td> 0.000</td> <td>    2.527</td> <td>    4.085</td>\n</tr>\n<tr>\n  <th>WP</th>    <td>   -2.4893</td> <td>    0.103</td> <td>  -24.157</td> <td> 0.000</td> <td>   -2.692</td> <td>   -2.287</td>\n</tr>\n<tr>\n  <th>OWP</th>   <td>   -2.1987</td> <td>    0.454</td> <td>   -4.839</td> <td> 0.000</td> <td>   -3.092</td> <td>   -1.306</td>\n</tr>\n<tr>\n  <th>DOWP</th>  <td>   -0.4679</td> <td>    0.243</td> <td>   -1.929</td> <td> 0.054</td> <td>   -0.945</td> <td>    0.009</td>\n</tr>\n<tr>\n  <th>OOWP</th>  <td>    2.2125</td> <td>    1.520</td> <td>    1.455</td> <td> 0.146</td> <td>   -0.775</td> <td>    5.200</td>\n</tr>\n<tr>\n  <th>DOOWP</th> <td>   -0.3116</td> <td>    1.131</td> <td>   -0.276</td> <td> 0.783</td> <td>   -2.534</td> <td>    1.911</td>\n</tr>\n</table>\n<table class=\"simpletable\">\n<tr>\n  <th>Omnibus:</th>       <td>10.303</td> <th>  Durbin-Watson:     </th> <td>   0.618</td>\n</tr>\n<tr>\n  <th>Prob(Omnibus):</th> <td> 0.006</td> <th>  Jarque-Bera (JB):  </th> <td>  10.387</td>\n</tr>\n<tr>\n  <th>Skew:</th>          <td>-0.338</td> <th>  Prob(JB):          </th> <td> 0.00555</td>\n</tr>\n<tr>\n  <th>Kurtosis:</th>      <td> 3.294</td> <th>  Cond. No.          </th> <td>    148.</td>\n</tr>\n</table><br/><br/>Notes:<br/>[1] Standard Errors assume that the covariance matrix of the errors is correctly specified.",
      "text/plain": "<class 'statsmodels.iolib.summary.Summary'>\n\"\"\"\n                            OLS Regression Results                            \n==============================================================================\nDep. Variable:                   Seed   R-squared:                       0.743\nModel:                            OLS   Adj. R-squared:                  0.740\nMethod:                 Least Squares   F-statistic:                     261.8\nDate:                Tue, 30 Jan 2024   Prob (F-statistic):          4.10e-131\nTime:                        16:06:20   Log-Likelihood:                -210.73\nNo. Observations:                 459   AIC:                             433.5\nDf Residuals:                     453   BIC:                             458.2\nDf Model:                           5                                         \nCovariance Type:            nonrobust                                         \n==============================================================================\n                 coef    std err          t      P>|t|      [0.025      0.975]\n------------------------------------------------------------------------------\nconst          3.3061      0.396      8.344      0.000       2.527       4.085\nWP            -2.4893      0.103    -24.157      0.000      -2.692      -2.287\nOWP           -2.1987      0.454     -4.839      0.000      -3.092      -1.306\nDOWP          -0.4679      0.243     -1.929      0.054      -0.945       0.009\nOOWP           2.2125      1.520      1.455      0.146      -0.775       5.200\nDOOWP         -0.3116      1.131     -0.276      0.783      -2.534       1.911\n==============================================================================\nOmnibus:                       10.303   Durbin-Watson:                   0.618\nProb(Omnibus):                  0.006   Jarque-Bera (JB):               10.387\nSkew:                          -0.338   Prob(JB):                      0.00555\nKurtosis:                       3.294   Cond. No.                         148.\n==============================================================================\n\nNotes:\n[1] Standard Errors assume that the covariance matrix of the errors is correctly specified.\n\"\"\""
     },
     "execution_count": 150,
     "metadata": {},
     "output_type": "execute_result"
    }
   ],
   "source": [
    "mdl_fit.summary()"
   ]
  },
  {
   "cell_type": "code",
   "execution_count": 151,
   "metadata": {},
   "outputs": [
    {
     "data": {
      "text/html": "<div>\n<style scoped>\n    .dataframe tbody tr th:only-of-type {\n        vertical-align: middle;\n    }\n\n    .dataframe tbody tr th {\n        vertical-align: top;\n    }\n\n    .dataframe thead th {\n        text-align: right;\n    }\n</style>\n<table border=\"1\" class=\"dataframe\">\n  <thead>\n    <tr style=\"text-align: right;\">\n      <th></th>\n      <th>Team</th>\n      <th>Seed</th>\n      <th>const</th>\n      <th>WP</th>\n      <th>OWP</th>\n      <th>DOWP</th>\n      <th>OOWP</th>\n      <th>DOOWP</th>\n    </tr>\n  </thead>\n  <tbody>\n    <tr>\n      <th>0</th>\n      <td>Wabeno/Laona</td>\n      <td>1</td>\n      <td>1.0</td>\n      <td>0.72727</td>\n      <td>0.62664</td>\n      <td>0.52419</td>\n      <td>0.52389</td>\n      <td>0.51860</td>\n    </tr>\n    <tr>\n      <th>1</th>\n      <td>Sevastopol</td>\n      <td>2</td>\n      <td>1.0</td>\n      <td>0.95238</td>\n      <td>0.46891</td>\n      <td>0.40187</td>\n      <td>0.51599</td>\n      <td>0.50353</td>\n    </tr>\n    <tr>\n      <th>2</th>\n      <td>Lena</td>\n      <td>3</td>\n      <td>1.0</td>\n      <td>0.85714</td>\n      <td>0.47468</td>\n      <td>0.41091</td>\n      <td>0.49633</td>\n      <td>0.52648</td>\n    </tr>\n    <tr>\n      <th>3</th>\n      <td>Niagara</td>\n      <td>4</td>\n      <td>1.0</td>\n      <td>0.77273</td>\n      <td>0.47541</td>\n      <td>0.41364</td>\n      <td>0.52350</td>\n      <td>0.54941</td>\n    </tr>\n    <tr>\n      <th>4</th>\n      <td>Three Lakes</td>\n      <td>5</td>\n      <td>1.0</td>\n      <td>0.57143</td>\n      <td>0.54958</td>\n      <td>0.39614</td>\n      <td>0.51741</td>\n      <td>0.54261</td>\n    </tr>\n  </tbody>\n</table>\n</div>",
      "text/plain": "           Team  Seed  const       WP      OWP     DOWP     OOWP    DOOWP\n0  Wabeno/Laona     1    1.0  0.72727  0.62664  0.52419  0.52389  0.51860\n1    Sevastopol     2    1.0  0.95238  0.46891  0.40187  0.51599  0.50353\n2          Lena     3    1.0  0.85714  0.47468  0.41091  0.49633  0.52648\n3       Niagara     4    1.0  0.77273  0.47541  0.41364  0.52350  0.54941\n4   Three Lakes     5    1.0  0.57143  0.54958  0.39614  0.51741  0.54261"
     },
     "execution_count": 151,
     "metadata": {},
     "output_type": "execute_result"
    }
   ],
   "source": [
    "X_pred = d5s2b[[\"Team\", \"Seed\", \"WP\", \"OWP\", \"DOWP\", \"OOWP\", \"DOOWP\"]]\n",
    "X_pred = sms.add_constant(X_pred)\n",
    "X_pred = X_pred[[\"Team\", \"Seed\", \"const\", \"WP\", \"OWP\", \"DOWP\", \"OOWP\", \"DOOWP\"]]\n",
    "X_pred.head()"
   ]
  },
  {
   "cell_type": "code",
   "execution_count": 152,
   "metadata": {},
   "outputs": [
    {
     "name": "stdout",
     "output_type": "stream",
     "text": [
      "0     0.870073\n",
      "1     0.700953\n",
      "2     0.870472\n",
      "3     1.130683\n",
      "4     1.465542\n",
      "5     1.418216\n",
      "6     1.569369\n",
      "7     1.881954\n",
      "8     2.147754\n",
      "9     2.227552\n",
      "10    2.528073\n",
      "11    2.233913\n",
      "12    2.817757\n",
      "13    2.472031\n",
      "dtype: float64\n"
     ]
    }
   ],
   "source": [
    "y_pred = mdl_fit.predict(X_pred.iloc[:, 2:])\n",
    "print(y_pred)"
   ]
  },
  {
   "cell_type": "code",
   "execution_count": 153,
   "metadata": {},
   "outputs": [
    {
     "data": {
      "text/html": "<div>\n<style scoped>\n    .dataframe tbody tr th:only-of-type {\n        vertical-align: middle;\n    }\n\n    .dataframe tbody tr th {\n        vertical-align: top;\n    }\n\n    .dataframe thead th {\n        text-align: right;\n    }\n</style>\n<table border=\"1\" class=\"dataframe\">\n  <thead>\n    <tr style=\"text-align: right;\">\n      <th></th>\n      <th>Team</th>\n      <th>Seed</th>\n      <th>const</th>\n      <th>WP</th>\n      <th>OWP</th>\n      <th>DOWP</th>\n      <th>OOWP</th>\n      <th>DOOWP</th>\n      <th>Prediction</th>\n      <th>Exp_Pred</th>\n      <th>Predicted_Seed</th>\n      <th>Error</th>\n    </tr>\n  </thead>\n  <tbody>\n    <tr>\n      <th>0</th>\n      <td>Sevastopol</td>\n      <td>2</td>\n      <td>1.0</td>\n      <td>0.95238</td>\n      <td>0.46891</td>\n      <td>0.40187</td>\n      <td>0.51599</td>\n      <td>0.50353</td>\n      <td>0.700953</td>\n      <td>2.015673</td>\n      <td>1</td>\n      <td>1</td>\n    </tr>\n    <tr>\n      <th>1</th>\n      <td>Wabeno/Laona</td>\n      <td>1</td>\n      <td>1.0</td>\n      <td>0.72727</td>\n      <td>0.62664</td>\n      <td>0.52419</td>\n      <td>0.52389</td>\n      <td>0.51860</td>\n      <td>0.870073</td>\n      <td>2.387085</td>\n      <td>2</td>\n      <td>-1</td>\n    </tr>\n    <tr>\n      <th>2</th>\n      <td>Lena</td>\n      <td>3</td>\n      <td>1.0</td>\n      <td>0.85714</td>\n      <td>0.47468</td>\n      <td>0.41091</td>\n      <td>0.49633</td>\n      <td>0.52648</td>\n      <td>0.870472</td>\n      <td>2.388037</td>\n      <td>3</td>\n      <td>0</td>\n    </tr>\n    <tr>\n      <th>3</th>\n      <td>Niagara</td>\n      <td>4</td>\n      <td>1.0</td>\n      <td>0.77273</td>\n      <td>0.47541</td>\n      <td>0.41364</td>\n      <td>0.52350</td>\n      <td>0.54941</td>\n      <td>1.130683</td>\n      <td>3.097772</td>\n      <td>4</td>\n      <td>0</td>\n    </tr>\n    <tr>\n      <th>4</th>\n      <td>Florence</td>\n      <td>6</td>\n      <td>1.0</td>\n      <td>0.61905</td>\n      <td>0.51840</td>\n      <td>0.39000</td>\n      <td>0.51227</td>\n      <td>0.50680</td>\n      <td>1.418216</td>\n      <td>4.129748</td>\n      <td>5</td>\n      <td>1</td>\n    </tr>\n    <tr>\n      <th>5</th>\n      <td>Three Lakes</td>\n      <td>5</td>\n      <td>1.0</td>\n      <td>0.57143</td>\n      <td>0.54958</td>\n      <td>0.39614</td>\n      <td>0.51741</td>\n      <td>0.54261</td>\n      <td>1.465542</td>\n      <td>4.329889</td>\n      <td>6</td>\n      <td>-1</td>\n    </tr>\n    <tr>\n      <th>6</th>\n      <td>Suring</td>\n      <td>7</td>\n      <td>1.0</td>\n      <td>0.50000</td>\n      <td>0.58642</td>\n      <td>0.37821</td>\n      <td>0.51043</td>\n      <td>0.49747</td>\n      <td>1.569369</td>\n      <td>4.803614</td>\n      <td>7</td>\n      <td>0</td>\n    </tr>\n    <tr>\n      <th>7</th>\n      <td>Gillett</td>\n      <td>8</td>\n      <td>1.0</td>\n      <td>0.50000</td>\n      <td>0.44954</td>\n      <td>0.32683</td>\n      <td>0.50837</td>\n      <td>0.52269</td>\n      <td>1.881954</td>\n      <td>6.566326</td>\n      <td>8</td>\n      <td>0</td>\n    </tr>\n    <tr>\n      <th>8</th>\n      <td>Wausaukee</td>\n      <td>9</td>\n      <td>1.0</td>\n      <td>0.35000</td>\n      <td>0.51316</td>\n      <td>0.26126</td>\n      <td>0.50391</td>\n      <td>0.48589</td>\n      <td>2.147754</td>\n      <td>8.565598</td>\n      <td>9</td>\n      <td>0</td>\n    </tr>\n    <tr>\n      <th>9</th>\n      <td>Bowler</td>\n      <td>10</td>\n      <td>1.0</td>\n      <td>0.37500</td>\n      <td>0.43357</td>\n      <td>0.18421</td>\n      <td>0.46639</td>\n      <td>0.44098</td>\n      <td>2.227552</td>\n      <td>9.277125</td>\n      <td>10</td>\n      <td>0</td>\n    </tr>\n    <tr>\n      <th>10</th>\n      <td>Goodman/Pembine</td>\n      <td>12</td>\n      <td>1.0</td>\n      <td>0.31579</td>\n      <td>0.47569</td>\n      <td>0.40000</td>\n      <td>0.49239</td>\n      <td>0.45696</td>\n      <td>2.233913</td>\n      <td>9.336327</td>\n      <td>11</td>\n      <td>1</td>\n    </tr>\n    <tr>\n      <th>11</th>\n      <td>Saint Thomas Aquinas</td>\n      <td>14</td>\n      <td>1.0</td>\n      <td>0.18750</td>\n      <td>0.48770</td>\n      <td>0.50000</td>\n      <td>0.49639</td>\n      <td>0.51117</td>\n      <td>2.472031</td>\n      <td>11.846479</td>\n      <td>12</td>\n      <td>2</td>\n    </tr>\n    <tr>\n      <th>12</th>\n      <td>Elcho</td>\n      <td>11</td>\n      <td>1.0</td>\n      <td>0.22222</td>\n      <td>0.46382</td>\n      <td>0.17857</td>\n      <td>0.47471</td>\n      <td>0.55116</td>\n      <td>2.528073</td>\n      <td>12.529334</td>\n      <td>13</td>\n      <td>-2</td>\n    </tr>\n    <tr>\n      <th>13</th>\n      <td>Gibraltar</td>\n      <td>13</td>\n      <td>1.0</td>\n      <td>0.13636</td>\n      <td>0.44932</td>\n      <td>0.22951</td>\n      <td>0.50178</td>\n      <td>0.52546</td>\n      <td>2.817757</td>\n      <td>16.739260</td>\n      <td>14</td>\n      <td>-1</td>\n    </tr>\n  </tbody>\n</table>\n</div>",
      "text/plain": "                    Team  Seed  const       WP      OWP     DOWP     OOWP  \\\n0             Sevastopol     2    1.0  0.95238  0.46891  0.40187  0.51599   \n1           Wabeno/Laona     1    1.0  0.72727  0.62664  0.52419  0.52389   \n2                   Lena     3    1.0  0.85714  0.47468  0.41091  0.49633   \n3                Niagara     4    1.0  0.77273  0.47541  0.41364  0.52350   \n4               Florence     6    1.0  0.61905  0.51840  0.39000  0.51227   \n5            Three Lakes     5    1.0  0.57143  0.54958  0.39614  0.51741   \n6                 Suring     7    1.0  0.50000  0.58642  0.37821  0.51043   \n7                Gillett     8    1.0  0.50000  0.44954  0.32683  0.50837   \n8              Wausaukee     9    1.0  0.35000  0.51316  0.26126  0.50391   \n9                 Bowler    10    1.0  0.37500  0.43357  0.18421  0.46639   \n10       Goodman/Pembine    12    1.0  0.31579  0.47569  0.40000  0.49239   \n11  Saint Thomas Aquinas    14    1.0  0.18750  0.48770  0.50000  0.49639   \n12                 Elcho    11    1.0  0.22222  0.46382  0.17857  0.47471   \n13             Gibraltar    13    1.0  0.13636  0.44932  0.22951  0.50178   \n\n      DOOWP  Prediction   Exp_Pred  Predicted_Seed  Error  \n0   0.50353    0.700953   2.015673               1      1  \n1   0.51860    0.870073   2.387085               2     -1  \n2   0.52648    0.870472   2.388037               3      0  \n3   0.54941    1.130683   3.097772               4      0  \n4   0.50680    1.418216   4.129748               5      1  \n5   0.54261    1.465542   4.329889               6     -1  \n6   0.49747    1.569369   4.803614               7      0  \n7   0.52269    1.881954   6.566326               8      0  \n8   0.48589    2.147754   8.565598               9      0  \n9   0.44098    2.227552   9.277125              10      0  \n10  0.45696    2.233913   9.336327              11      1  \n11  0.51117    2.472031  11.846479              12      2  \n12  0.55116    2.528073  12.529334              13     -2  \n13  0.52546    2.817757  16.739260              14     -1  "
     },
     "execution_count": 153,
     "metadata": {},
     "output_type": "execute_result"
    }
   ],
   "source": [
    "X_pred[\"Prediction\"] = y_pred\n",
    "X_pred[\"Exp_Pred\"] = np.exp(X_pred[\"Prediction\"])\n",
    "X_pred = X_pred.sort_values(by=\"Exp_Pred\").reset_index(drop=True)\n",
    "X_pred[\"Predicted_Seed\"] = X_pred.index+1\n",
    "X_pred[\"Error\"] = X_pred[\"Seed\"] - X_pred[\"Predicted_Seed\"]\n",
    "X_pred"
   ]
  },
  {
   "cell_type": "code",
   "execution_count": 154,
   "metadata": {},
   "outputs": [
    {
     "data": {
      "text/html": "<div>\n<style scoped>\n    .dataframe tbody tr th:only-of-type {\n        vertical-align: middle;\n    }\n\n    .dataframe tbody tr th {\n        vertical-align: top;\n    }\n\n    .dataframe thead th {\n        text-align: right;\n    }\n</style>\n<table border=\"1\" class=\"dataframe\">\n  <thead>\n    <tr style=\"text-align: right;\">\n      <th></th>\n      <th>Team</th>\n      <th>Seed</th>\n      <th>const</th>\n      <th>WP</th>\n      <th>OWP</th>\n      <th>DOWP</th>\n      <th>OOWP</th>\n      <th>DOOWP</th>\n      <th>Prediction</th>\n      <th>Exp_Pred</th>\n      <th>Predicted_Seed</th>\n      <th>Error</th>\n    </tr>\n  </thead>\n  <tbody>\n    <tr>\n      <th>0</th>\n      <td>Sevastopol</td>\n      <td>2</td>\n      <td>1.0</td>\n      <td>0.95238</td>\n      <td>0.46891</td>\n      <td>0.40187</td>\n      <td>0.51599</td>\n      <td>0.50353</td>\n      <td>0.700953</td>\n      <td>2.015673</td>\n      <td>1</td>\n      <td>1</td>\n    </tr>\n    <tr>\n      <th>1</th>\n      <td>Wabeno/Laona</td>\n      <td>1</td>\n      <td>1.0</td>\n      <td>0.72727</td>\n      <td>0.62664</td>\n      <td>0.52419</td>\n      <td>0.52389</td>\n      <td>0.51860</td>\n      <td>0.870073</td>\n      <td>2.387085</td>\n      <td>2</td>\n      <td>-1</td>\n    </tr>\n    <tr>\n      <th>2</th>\n      <td>Lena</td>\n      <td>3</td>\n      <td>1.0</td>\n      <td>0.85714</td>\n      <td>0.47468</td>\n      <td>0.41091</td>\n      <td>0.49633</td>\n      <td>0.52648</td>\n      <td>0.870472</td>\n      <td>2.388037</td>\n      <td>3</td>\n      <td>0</td>\n    </tr>\n    <tr>\n      <th>3</th>\n      <td>Niagara</td>\n      <td>4</td>\n      <td>1.0</td>\n      <td>0.77273</td>\n      <td>0.47541</td>\n      <td>0.41364</td>\n      <td>0.52350</td>\n      <td>0.54941</td>\n      <td>1.130683</td>\n      <td>3.097772</td>\n      <td>4</td>\n      <td>0</td>\n    </tr>\n    <tr>\n      <th>4</th>\n      <td>Florence</td>\n      <td>6</td>\n      <td>1.0</td>\n      <td>0.61905</td>\n      <td>0.51840</td>\n      <td>0.39000</td>\n      <td>0.51227</td>\n      <td>0.50680</td>\n      <td>1.418216</td>\n      <td>4.129748</td>\n      <td>5</td>\n      <td>1</td>\n    </tr>\n    <tr>\n      <th>5</th>\n      <td>Three Lakes</td>\n      <td>5</td>\n      <td>1.0</td>\n      <td>0.57143</td>\n      <td>0.54958</td>\n      <td>0.39614</td>\n      <td>0.51741</td>\n      <td>0.54261</td>\n      <td>1.465542</td>\n      <td>4.329889</td>\n      <td>6</td>\n      <td>-1</td>\n    </tr>\n    <tr>\n      <th>6</th>\n      <td>Suring</td>\n      <td>7</td>\n      <td>1.0</td>\n      <td>0.50000</td>\n      <td>0.58642</td>\n      <td>0.37821</td>\n      <td>0.51043</td>\n      <td>0.49747</td>\n      <td>1.569369</td>\n      <td>4.803614</td>\n      <td>7</td>\n      <td>0</td>\n    </tr>\n    <tr>\n      <th>7</th>\n      <td>Gillett</td>\n      <td>8</td>\n      <td>1.0</td>\n      <td>0.50000</td>\n      <td>0.44954</td>\n      <td>0.32683</td>\n      <td>0.50837</td>\n      <td>0.52269</td>\n      <td>1.881954</td>\n      <td>6.566326</td>\n      <td>8</td>\n      <td>0</td>\n    </tr>\n    <tr>\n      <th>8</th>\n      <td>Wausaukee</td>\n      <td>9</td>\n      <td>1.0</td>\n      <td>0.35000</td>\n      <td>0.51316</td>\n      <td>0.26126</td>\n      <td>0.50391</td>\n      <td>0.48589</td>\n      <td>2.147754</td>\n      <td>8.565598</td>\n      <td>9</td>\n      <td>0</td>\n    </tr>\n    <tr>\n      <th>9</th>\n      <td>Bowler</td>\n      <td>10</td>\n      <td>1.0</td>\n      <td>0.37500</td>\n      <td>0.43357</td>\n      <td>0.18421</td>\n      <td>0.46639</td>\n      <td>0.44098</td>\n      <td>2.227552</td>\n      <td>9.277125</td>\n      <td>10</td>\n      <td>0</td>\n    </tr>\n    <tr>\n      <th>10</th>\n      <td>Goodman/Pembine</td>\n      <td>12</td>\n      <td>1.0</td>\n      <td>0.31579</td>\n      <td>0.47569</td>\n      <td>0.40000</td>\n      <td>0.49239</td>\n      <td>0.45696</td>\n      <td>2.233913</td>\n      <td>9.336327</td>\n      <td>11</td>\n      <td>1</td>\n    </tr>\n    <tr>\n      <th>11</th>\n      <td>Saint Thomas Aquinas</td>\n      <td>14</td>\n      <td>1.0</td>\n      <td>0.18750</td>\n      <td>0.48770</td>\n      <td>0.50000</td>\n      <td>0.49639</td>\n      <td>0.51117</td>\n      <td>2.472031</td>\n      <td>11.846479</td>\n      <td>12</td>\n      <td>2</td>\n    </tr>\n    <tr>\n      <th>12</th>\n      <td>Elcho</td>\n      <td>11</td>\n      <td>1.0</td>\n      <td>0.22222</td>\n      <td>0.46382</td>\n      <td>0.17857</td>\n      <td>0.47471</td>\n      <td>0.55116</td>\n      <td>2.528073</td>\n      <td>12.529334</td>\n      <td>13</td>\n      <td>-2</td>\n    </tr>\n    <tr>\n      <th>13</th>\n      <td>Gibraltar</td>\n      <td>13</td>\n      <td>1.0</td>\n      <td>0.13636</td>\n      <td>0.44932</td>\n      <td>0.22951</td>\n      <td>0.50178</td>\n      <td>0.52546</td>\n      <td>2.817757</td>\n      <td>16.739260</td>\n      <td>14</td>\n      <td>-1</td>\n    </tr>\n  </tbody>\n</table>\n</div>",
      "text/plain": "                    Team  Seed  const       WP      OWP     DOWP     OOWP  \\\n0             Sevastopol     2    1.0  0.95238  0.46891  0.40187  0.51599   \n1           Wabeno/Laona     1    1.0  0.72727  0.62664  0.52419  0.52389   \n2                   Lena     3    1.0  0.85714  0.47468  0.41091  0.49633   \n3                Niagara     4    1.0  0.77273  0.47541  0.41364  0.52350   \n4               Florence     6    1.0  0.61905  0.51840  0.39000  0.51227   \n5            Three Lakes     5    1.0  0.57143  0.54958  0.39614  0.51741   \n6                 Suring     7    1.0  0.50000  0.58642  0.37821  0.51043   \n7                Gillett     8    1.0  0.50000  0.44954  0.32683  0.50837   \n8              Wausaukee     9    1.0  0.35000  0.51316  0.26126  0.50391   \n9                 Bowler    10    1.0  0.37500  0.43357  0.18421  0.46639   \n10       Goodman/Pembine    12    1.0  0.31579  0.47569  0.40000  0.49239   \n11  Saint Thomas Aquinas    14    1.0  0.18750  0.48770  0.50000  0.49639   \n12                 Elcho    11    1.0  0.22222  0.46382  0.17857  0.47471   \n13             Gibraltar    13    1.0  0.13636  0.44932  0.22951  0.50178   \n\n      DOOWP  Prediction   Exp_Pred  Predicted_Seed  Error  \n0   0.50353    0.700953   2.015673               1      1  \n1   0.51860    0.870073   2.387085               2     -1  \n2   0.52648    0.870472   2.388037               3      0  \n3   0.54941    1.130683   3.097772               4      0  \n4   0.50680    1.418216   4.129748               5      1  \n5   0.54261    1.465542   4.329889               6     -1  \n6   0.49747    1.569369   4.803614               7      0  \n7   0.52269    1.881954   6.566326               8      0  \n8   0.48589    2.147754   8.565598               9      0  \n9   0.44098    2.227552   9.277125              10      0  \n10  0.45696    2.233913   9.336327              11      1  \n11  0.51117    2.472031  11.846479              12      2  \n12  0.55116    2.528073  12.529334              13     -2  \n13  0.52546    2.817757  16.739260              14     -1  "
     },
     "execution_count": 154,
     "metadata": {},
     "output_type": "execute_result"
    }
   ],
   "source": [
    "X_pred"
   ]
  },
  {
   "cell_type": "code",
   "execution_count": 155,
   "metadata": {},
   "outputs": [
    {
     "data": {
      "text/html": "<div>\n<style scoped>\n    .dataframe tbody tr th:only-of-type {\n        vertical-align: middle;\n    }\n\n    .dataframe tbody tr th {\n        vertical-align: top;\n    }\n\n    .dataframe thead th {\n        text-align: right;\n    }\n</style>\n<table border=\"1\" class=\"dataframe\">\n  <thead>\n    <tr style=\"text-align: right;\">\n      <th></th>\n      <th>Team</th>\n      <th>Seed</th>\n      <th>const</th>\n      <th>WP</th>\n      <th>OWP</th>\n      <th>DOWP</th>\n      <th>OOWP</th>\n      <th>DOOWP</th>\n    </tr>\n  </thead>\n  <tbody>\n    <tr>\n      <th>0</th>\n      <td>Assumption</td>\n      <td>1</td>\n      <td>1.0</td>\n      <td>0.80952</td>\n      <td>0.55079</td>\n      <td>0.54154</td>\n      <td>0.52879</td>\n      <td>0.52598</td>\n    </tr>\n    <tr>\n      <th>1</th>\n      <td>Edgar</td>\n      <td>2</td>\n      <td>1.0</td>\n      <td>0.77273</td>\n      <td>0.51685</td>\n      <td>0.47678</td>\n      <td>0.52843</td>\n      <td>0.53692</td>\n    </tr>\n    <tr>\n      <th>2</th>\n      <td>Athens</td>\n      <td>3</td>\n      <td>1.0</td>\n      <td>0.86957</td>\n      <td>0.45740</td>\n      <td>0.39833</td>\n      <td>0.53085</td>\n      <td>0.52574</td>\n    </tr>\n    <tr>\n      <th>3</th>\n      <td>Iola-Scandinavia</td>\n      <td>4</td>\n      <td>1.0</td>\n      <td>0.75000</td>\n      <td>0.49340</td>\n      <td>0.41631</td>\n      <td>0.49688</td>\n      <td>0.51113</td>\n    </tr>\n    <tr>\n      <th>4</th>\n      <td>Almond-Bancroft</td>\n      <td>5</td>\n      <td>1.0</td>\n      <td>0.86364</td>\n      <td>0.36387</td>\n      <td>0.35599</td>\n      <td>0.47081</td>\n      <td>0.44495</td>\n    </tr>\n  </tbody>\n</table>\n</div>",
      "text/plain": "               Team  Seed  const       WP      OWP     DOWP     OOWP    DOOWP\n0        Assumption     1    1.0  0.80952  0.55079  0.54154  0.52879  0.52598\n1             Edgar     2    1.0  0.77273  0.51685  0.47678  0.52843  0.53692\n2            Athens     3    1.0  0.86957  0.45740  0.39833  0.53085  0.52574\n3  Iola-Scandinavia     4    1.0  0.75000  0.49340  0.41631  0.49688  0.51113\n4   Almond-Bancroft     5    1.0  0.86364  0.36387  0.35599  0.47081  0.44495"
     },
     "execution_count": 155,
     "metadata": {},
     "output_type": "execute_result"
    }
   ],
   "source": [
    "X_pred = d5s2a[[\"Team\", \"Seed\", \"WP\", \"OWP\", \"DOWP\", \"OOWP\", \"DOOWP\"]]\n",
    "X_pred = sms.add_constant(X_pred)\n",
    "X_pred = X_pred[[\"Team\", \"Seed\", \"const\", \"WP\", \"OWP\", \"DOWP\", \"OOWP\", \"DOOWP\"]]\n",
    "X_pred.head()"
   ]
  },
  {
   "cell_type": "code",
   "execution_count": 156,
   "metadata": {},
   "outputs": [
    {
     "data": {
      "text/html": "<div>\n<style scoped>\n    .dataframe tbody tr th:only-of-type {\n        vertical-align: middle;\n    }\n\n    .dataframe tbody tr th {\n        vertical-align: top;\n    }\n\n    .dataframe thead th {\n        text-align: right;\n    }\n</style>\n<table border=\"1\" class=\"dataframe\">\n  <thead>\n    <tr style=\"text-align: right;\">\n      <th></th>\n      <th>Team</th>\n      <th>Seed</th>\n      <th>const</th>\n      <th>WP</th>\n      <th>OWP</th>\n      <th>DOWP</th>\n      <th>OOWP</th>\n      <th>DOOWP</th>\n      <th>Prediction</th>\n      <th>Exp_Pred</th>\n      <th>Predicted_Seed</th>\n      <th>Error</th>\n    </tr>\n  </thead>\n  <tbody>\n    <tr>\n      <th>0</th>\n      <td>Assumption</td>\n      <td>1</td>\n      <td>1.0</td>\n      <td>0.80952</td>\n      <td>0.55079</td>\n      <td>0.54154</td>\n      <td>0.52879</td>\n      <td>0.52598</td>\n      <td>0.832521</td>\n      <td>2.299108</td>\n      <td>1</td>\n      <td>0</td>\n    </tr>\n    <tr>\n      <th>1</th>\n      <td>Athens</td>\n      <td>3</td>\n      <td>1.0</td>\n      <td>0.86957</td>\n      <td>0.45740</td>\n      <td>0.39833</td>\n      <td>0.53085</td>\n      <td>0.52574</td>\n      <td>0.960016</td>\n      <td>2.611738</td>\n      <td>2</td>\n      <td>1</td>\n    </tr>\n    <tr>\n      <th>2</th>\n      <td>Edgar</td>\n      <td>2</td>\n      <td>1.0</td>\n      <td>0.77273</td>\n      <td>0.51685</td>\n      <td>0.47678</td>\n      <td>0.52843</td>\n      <td>0.53692</td>\n      <td>1.024825</td>\n      <td>2.786607</td>\n      <td>3</td>\n      <td>-1</td>\n    </tr>\n    <tr>\n      <th>3</th>\n      <td>Almond-Bancroft</td>\n      <td>5</td>\n      <td>1.0</td>\n      <td>0.86364</td>\n      <td>0.36387</td>\n      <td>0.35599</td>\n      <td>0.47081</td>\n      <td>0.44495</td>\n      <td>1.092575</td>\n      <td>2.981943</td>\n      <td>4</td>\n      <td>1</td>\n    </tr>\n    <tr>\n      <th>4</th>\n      <td>Iola-Scandinavia</td>\n      <td>4</td>\n      <td>1.0</td>\n      <td>0.75000</td>\n      <td>0.49340</td>\n      <td>0.41631</td>\n      <td>0.49688</td>\n      <td>0.51113</td>\n      <td>1.099494</td>\n      <td>3.002647</td>\n      <td>5</td>\n      <td>-1</td>\n    </tr>\n    <tr>\n      <th>5</th>\n      <td>Columbus Catholic</td>\n      <td>6</td>\n      <td>1.0</td>\n      <td>0.60870</td>\n      <td>0.55013</td>\n      <td>0.36316</td>\n      <td>0.53009</td>\n      <td>0.54700</td>\n      <td>1.413672</td>\n      <td>4.111025</td>\n      <td>6</td>\n      <td>0</td>\n    </tr>\n    <tr>\n      <th>6</th>\n      <td>Rosholt</td>\n      <td>8</td>\n      <td>1.0</td>\n      <td>0.54545</td>\n      <td>0.48794</td>\n      <td>0.33184</td>\n      <td>0.49232</td>\n      <td>0.52329</td>\n      <td>1.646340</td>\n      <td>5.187958</td>\n      <td>7</td>\n      <td>1</td>\n    </tr>\n    <tr>\n      <th>7</th>\n      <td>Pacelli</td>\n      <td>9</td>\n      <td>1.0</td>\n      <td>0.50000</td>\n      <td>0.51436</td>\n      <td>0.37126</td>\n      <td>0.49665</td>\n      <td>0.48403</td>\n      <td>1.704761</td>\n      <td>5.500073</td>\n      <td>8</td>\n      <td>1</td>\n    </tr>\n    <tr>\n      <th>8</th>\n      <td>Gresham</td>\n      <td>10</td>\n      <td>1.0</td>\n      <td>0.57143</td>\n      <td>0.42597</td>\n      <td>0.31126</td>\n      <td>0.47993</td>\n      <td>0.47687</td>\n      <td>1.714605</td>\n      <td>5.554484</td>\n      <td>9</td>\n      <td>1</td>\n    </tr>\n    <tr>\n      <th>9</th>\n      <td>Newman Catholic</td>\n      <td>7</td>\n      <td>1.0</td>\n      <td>0.50000</td>\n      <td>0.52010</td>\n      <td>0.37981</td>\n      <td>0.52054</td>\n      <td>0.51833</td>\n      <td>1.730307</td>\n      <td>5.642389</td>\n      <td>10</td>\n      <td>-3</td>\n    </tr>\n    <tr>\n      <th>10</th>\n      <td>Northland Lutheran</td>\n      <td>11</td>\n      <td>1.0</td>\n      <td>0.50000</td>\n      <td>0.42693</td>\n      <td>0.22137</td>\n      <td>0.47363</td>\n      <td>0.48808</td>\n      <td>1.914936</td>\n      <td>6.786503</td>\n      <td>11</td>\n      <td>0</td>\n    </tr>\n    <tr>\n      <th>11</th>\n      <td>Prentice</td>\n      <td>12</td>\n      <td>1.0</td>\n      <td>0.31818</td>\n      <td>0.52475</td>\n      <td>0.21094</td>\n      <td>0.51921</td>\n      <td>0.52257</td>\n      <td>2.247446</td>\n      <td>9.463539</td>\n      <td>12</td>\n      <td>0</td>\n    </tr>\n    <tr>\n      <th>12</th>\n      <td>Tri-County</td>\n      <td>13</td>\n      <td>1.0</td>\n      <td>0.29412</td>\n      <td>0.42593</td>\n      <td>0.12821</td>\n      <td>0.45544</td>\n      <td>0.44678</td>\n      <td>2.445856</td>\n      <td>11.540427</td>\n      <td>13</td>\n      <td>0</td>\n    </tr>\n    <tr>\n      <th>13</th>\n      <td>Rib Lake</td>\n      <td>14</td>\n      <td>1.0</td>\n      <td>0.15000</td>\n      <td>0.54707</td>\n      <td>0.22917</td>\n      <td>0.51348</td>\n      <td>0.50047</td>\n      <td>2.602709</td>\n      <td>13.500264</td>\n      <td>14</td>\n      <td>0</td>\n    </tr>\n    <tr>\n      <th>14</th>\n      <td>Tigerton</td>\n      <td>15</td>\n      <td>1.0</td>\n      <td>0.06667</td>\n      <td>0.43561</td>\n      <td>0.28571</td>\n      <td>0.45858</td>\n      <td>0.44785</td>\n      <td>2.923695</td>\n      <td>18.609921</td>\n      <td>15</td>\n      <td>0</td>\n    </tr>\n    <tr>\n      <th>15</th>\n      <td>Port Edwards</td>\n      <td>16</td>\n      <td>1.0</td>\n      <td>0.00000</td>\n      <td>0.50641</td>\n      <td>0.00000</td>\n      <td>0.46423</td>\n      <td>0.48211</td>\n      <td>3.069496</td>\n      <td>21.531045</td>\n      <td>16</td>\n      <td>0</td>\n    </tr>\n  </tbody>\n</table>\n</div>",
      "text/plain": "                  Team  Seed  const       WP      OWP     DOWP     OOWP  \\\n0           Assumption     1    1.0  0.80952  0.55079  0.54154  0.52879   \n1               Athens     3    1.0  0.86957  0.45740  0.39833  0.53085   \n2                Edgar     2    1.0  0.77273  0.51685  0.47678  0.52843   \n3      Almond-Bancroft     5    1.0  0.86364  0.36387  0.35599  0.47081   \n4     Iola-Scandinavia     4    1.0  0.75000  0.49340  0.41631  0.49688   \n5    Columbus Catholic     6    1.0  0.60870  0.55013  0.36316  0.53009   \n6              Rosholt     8    1.0  0.54545  0.48794  0.33184  0.49232   \n7              Pacelli     9    1.0  0.50000  0.51436  0.37126  0.49665   \n8              Gresham    10    1.0  0.57143  0.42597  0.31126  0.47993   \n9      Newman Catholic     7    1.0  0.50000  0.52010  0.37981  0.52054   \n10  Northland Lutheran    11    1.0  0.50000  0.42693  0.22137  0.47363   \n11            Prentice    12    1.0  0.31818  0.52475  0.21094  0.51921   \n12          Tri-County    13    1.0  0.29412  0.42593  0.12821  0.45544   \n13            Rib Lake    14    1.0  0.15000  0.54707  0.22917  0.51348   \n14            Tigerton    15    1.0  0.06667  0.43561  0.28571  0.45858   \n15        Port Edwards    16    1.0  0.00000  0.50641  0.00000  0.46423   \n\n      DOOWP  Prediction   Exp_Pred  Predicted_Seed  Error  \n0   0.52598    0.832521   2.299108               1      0  \n1   0.52574    0.960016   2.611738               2      1  \n2   0.53692    1.024825   2.786607               3     -1  \n3   0.44495    1.092575   2.981943               4      1  \n4   0.51113    1.099494   3.002647               5     -1  \n5   0.54700    1.413672   4.111025               6      0  \n6   0.52329    1.646340   5.187958               7      1  \n7   0.48403    1.704761   5.500073               8      1  \n8   0.47687    1.714605   5.554484               9      1  \n9   0.51833    1.730307   5.642389              10     -3  \n10  0.48808    1.914936   6.786503              11      0  \n11  0.52257    2.247446   9.463539              12      0  \n12  0.44678    2.445856  11.540427              13      0  \n13  0.50047    2.602709  13.500264              14      0  \n14  0.44785    2.923695  18.609921              15      0  \n15  0.48211    3.069496  21.531045              16      0  "
     },
     "execution_count": 156,
     "metadata": {},
     "output_type": "execute_result"
    }
   ],
   "source": [
    "y_pred = mdl_fit.predict(X_pred.iloc[:, 2:])\n",
    "X_pred[\"Prediction\"] = y_pred\n",
    "X_pred[\"Exp_Pred\"] = np.exp(X_pred[\"Prediction\"])\n",
    "X_pred = X_pred.sort_values(by=\"Exp_Pred\").reset_index(drop=True)\n",
    "X_pred[\"Predicted_Seed\"] = X_pred.index+1\n",
    "X_pred[\"Error\"] = X_pred[\"Seed\"] - X_pred[\"Predicted_Seed\"]\n",
    "X_pred"
   ]
  },
  {
   "cell_type": "code",
   "execution_count": 200,
   "metadata": {},
   "outputs": [],
   "source": [
    "weights = np.random.dirichlet(np.array([0.45, 0.40, 0.05, 0.05, 0.05]), size=100000)"
   ]
  },
  {
   "cell_type": "code",
   "execution_count": 201,
   "metadata": {},
   "outputs": [],
   "source": [
    "weights_df = pd.DataFrame(weights).rename(columns={\n",
    "    0: \"w1\",\n",
    "    1: \"w2\",\n",
    "    2: \"w3\",\n",
    "    3: \"w4\",\n",
    "    4: \"w5\"\n",
    "})\n",
    "weights_df[\"Error\"] = [None]*len(weights_df)\n",
    "weights_df[\"MAE\"] = [None]*len(weights_df)"
   ]
  },
  {
   "cell_type": "code",
   "execution_count": 202,
   "metadata": {},
   "outputs": [
    {
     "data": {
      "text/html": "<div>\n<style scoped>\n    .dataframe tbody tr th:only-of-type {\n        vertical-align: middle;\n    }\n\n    .dataframe tbody tr th {\n        vertical-align: top;\n    }\n\n    .dataframe thead th {\n        text-align: right;\n    }\n</style>\n<table border=\"1\" class=\"dataframe\">\n  <thead>\n    <tr style=\"text-align: right;\">\n      <th></th>\n      <th>w1</th>\n      <th>w2</th>\n      <th>w3</th>\n      <th>w4</th>\n      <th>w5</th>\n      <th>Error</th>\n      <th>MAE</th>\n    </tr>\n  </thead>\n  <tbody>\n    <tr>\n      <th>0</th>\n      <td>0.970085</td>\n      <td>0.021801</td>\n      <td>4.455909e-07</td>\n      <td>7.670087e-03</td>\n      <td>4.428938e-04</td>\n      <td>None</td>\n      <td>None</td>\n    </tr>\n    <tr>\n      <th>1</th>\n      <td>0.119499</td>\n      <td>0.821013</td>\n      <td>5.948692e-02</td>\n      <td>1.079216e-06</td>\n      <td>4.294131e-08</td>\n      <td>None</td>\n      <td>None</td>\n    </tr>\n    <tr>\n      <th>2</th>\n      <td>0.999539</td>\n      <td>0.000421</td>\n      <td>3.817950e-11</td>\n      <td>4.039298e-05</td>\n      <td>2.318527e-11</td>\n      <td>None</td>\n      <td>None</td>\n    </tr>\n    <tr>\n      <th>3</th>\n      <td>0.054552</td>\n      <td>0.945448</td>\n      <td>3.291757e-20</td>\n      <td>1.878720e-11</td>\n      <td>6.598745e-29</td>\n      <td>None</td>\n      <td>None</td>\n    </tr>\n    <tr>\n      <th>4</th>\n      <td>0.297739</td>\n      <td>0.671182</td>\n      <td>2.837608e-02</td>\n      <td>1.120245e-05</td>\n      <td>2.691541e-03</td>\n      <td>None</td>\n      <td>None</td>\n    </tr>\n  </tbody>\n</table>\n</div>",
      "text/plain": "         w1        w2            w3            w4            w5 Error   MAE\n0  0.970085  0.021801  4.455909e-07  7.670087e-03  4.428938e-04  None  None\n1  0.119499  0.821013  5.948692e-02  1.079216e-06  4.294131e-08  None  None\n2  0.999539  0.000421  3.817950e-11  4.039298e-05  2.318527e-11  None  None\n3  0.054552  0.945448  3.291757e-20  1.878720e-11  6.598745e-29  None  None\n4  0.297739  0.671182  2.837608e-02  1.120245e-05  2.691541e-03  None  None"
     },
     "execution_count": 202,
     "metadata": {},
     "output_type": "execute_result"
    }
   ],
   "source": [
    "weights_df.head()"
   ]
  },
  {
   "cell_type": "code",
   "execution_count": 203,
   "metadata": {},
   "outputs": [
    {
     "data": {
      "text/plain": "array([0.11949891276897276, 0.8210130450331461, 0.059486920041059675,\n       1.0792155127890024e-06, 4.294130848157424e-08, None, None],\n      dtype=object)"
     },
     "execution_count": 203,
     "metadata": {},
     "output_type": "execute_result"
    }
   ],
   "source": [
    "weights_df.iloc[1, :].values"
   ]
  },
  {
   "cell_type": "markdown",
   "metadata": {},
   "source": [
    "### Testing weights\n",
    "Trying out weights of the distribution. We center the weight of the seeding critierion about 0.2 (evenly split data) and go from there. We need code that:\n",
    "- Calculates the prediction based on the weights\n",
    "- Based on the outputted calculations, get the sectional seeding\n",
    "- Compare the predicted seeds to the actual seeds by calculating and summing the total absolute error\n",
    "- Compile a list of candidate weights for the seeding\n",
    "- See if we can get a list of parameters"
   ]
  },
  {
   "cell_type": "code",
   "execution_count": 204,
   "metadata": {},
   "outputs": [],
   "source": [
    "# Create a few empty columns with the predictions\n",
    "data_2223[\"Score\"] = [None] * len(data_2223)\n",
    "data_2223[\"Predicted_Seed\"] = [None] * len(data_2223)\n",
    "data_2223[\"Error\"] = [None] * len(data_2223)\n",
    "# Run through and calculate the DataFrame\n",
    "for i in range(len(weights_df)):\n",
    "    # Calculate the statistic used for predictions\n",
    "    for j in range(len(data_2223)):\n",
    "        #rint(\"Weights combination: \" + str(i) + \", Observation: \" + str(j))\n",
    "        # Calculate the predictions\n",
    "        data_2223.at[j, \"Score\"] = weights_df.at[i, \"w1\"] * data_2223.at[j, \"WP\"] +\\\n",
    "                                   weights_df.at[i, \"w2\"] * data_2223.at[j, \"OWP\"] +\\\n",
    "                                   weights_df.at[i, \"w3\"] * data_2223.at[j, \"DOWP\"] +\\\n",
    "                                   weights_df.at[i, \"w4\"] * data_2223.at[j, \"OOWP\"] +\\\n",
    "                                   weights_df.at[i, \"w5\"] * data_2223.at[j, \"DOOWP\"]\n",
    "    # Organize the DataFrame by Division, Sectional, and Prediction\n",
    "    data_2223 = data_2223.sort_values(by=[\n",
    "        \"Division\",\n",
    "        \"Sectional\",\n",
    "        \"Score\"\n",
    "    ]).reset_index(drop=True)\n",
    "    # Calculate the seeds\n",
    "    data_2223[\"Predicted_Seed\"] = data_2223.groupby([\"Division\", \"Sectional\"]).cumcount(ascending=False) + 1\n",
    "    data_2223[\"Error\"] = np.abs(data_2223[\"Seed\"] - data_2223[\"Predicted_Seed\"])\n",
    "    # Calculate the total absolute error and average the data by average miss\n",
    "    error = np.sum(data_2223[\"Error\"])\n",
    "    mae = error / len(data_2223[\"Error\"])\n",
    "    # Write the error and MAE to the dataframe\n",
    "    weights_df.at[i, \"Error\"] = error\n",
    "    weights_df.at[i, \"MAE\"] = mae"
   ]
  },
  {
   "cell_type": "code",
   "execution_count": 189,
   "metadata": {},
   "outputs": [],
   "source": [
    "weights_df = weights_df.sort_values(by=\"MAE\", ascending=True).reset_index(drop=True).head(25)"
   ]
  },
  {
   "cell_type": "code",
   "execution_count": 190,
   "metadata": {},
   "outputs": [
    {
     "data": {
      "text/html": "<div>\n<style scoped>\n    .dataframe tbody tr th:only-of-type {\n        vertical-align: middle;\n    }\n\n    .dataframe tbody tr th {\n        vertical-align: top;\n    }\n\n    .dataframe thead th {\n        text-align: right;\n    }\n</style>\n<table border=\"1\" class=\"dataframe\">\n  <thead>\n    <tr style=\"text-align: right;\">\n      <th></th>\n      <th>w1</th>\n      <th>w2</th>\n      <th>w3</th>\n      <th>w4</th>\n      <th>w5</th>\n    </tr>\n  </thead>\n  <tbody>\n    <tr>\n      <th>count</th>\n      <td>1.000000</td>\n      <td>1.000000</td>\n      <td>1.000000e+00</td>\n      <td>1.000000e+00</td>\n      <td>1.00000</td>\n    </tr>\n    <tr>\n      <th>mean</th>\n      <td>0.462479</td>\n      <td>0.421261</td>\n      <td>3.070795e-21</td>\n      <td>3.970173e-11</td>\n      <td>0.11626</td>\n    </tr>\n    <tr>\n      <th>std</th>\n      <td>NaN</td>\n      <td>NaN</td>\n      <td>NaN</td>\n      <td>NaN</td>\n      <td>NaN</td>\n    </tr>\n    <tr>\n      <th>min</th>\n      <td>0.462479</td>\n      <td>0.421261</td>\n      <td>3.070795e-21</td>\n      <td>3.970173e-11</td>\n      <td>0.11626</td>\n    </tr>\n    <tr>\n      <th>25%</th>\n      <td>0.462479</td>\n      <td>0.421261</td>\n      <td>3.070795e-21</td>\n      <td>3.970173e-11</td>\n      <td>0.11626</td>\n    </tr>\n    <tr>\n      <th>50%</th>\n      <td>0.462479</td>\n      <td>0.421261</td>\n      <td>3.070795e-21</td>\n      <td>3.970173e-11</td>\n      <td>0.11626</td>\n    </tr>\n    <tr>\n      <th>75%</th>\n      <td>0.462479</td>\n      <td>0.421261</td>\n      <td>3.070795e-21</td>\n      <td>3.970173e-11</td>\n      <td>0.11626</td>\n    </tr>\n    <tr>\n      <th>max</th>\n      <td>0.462479</td>\n      <td>0.421261</td>\n      <td>3.070795e-21</td>\n      <td>3.970173e-11</td>\n      <td>0.11626</td>\n    </tr>\n  </tbody>\n</table>\n</div>",
      "text/plain": "             w1        w2            w3            w4       w5\ncount  1.000000  1.000000  1.000000e+00  1.000000e+00  1.00000\nmean   0.462479  0.421261  3.070795e-21  3.970173e-11  0.11626\nstd         NaN       NaN           NaN           NaN      NaN\nmin    0.462479  0.421261  3.070795e-21  3.970173e-11  0.11626\n25%    0.462479  0.421261  3.070795e-21  3.970173e-11  0.11626\n50%    0.462479  0.421261  3.070795e-21  3.970173e-11  0.11626\n75%    0.462479  0.421261  3.070795e-21  3.970173e-11  0.11626\nmax    0.462479  0.421261  3.070795e-21  3.970173e-11  0.11626"
     },
     "execution_count": 190,
     "metadata": {},
     "output_type": "execute_result"
    }
   ],
   "source": [
    "candidates = weights_df[weights_df[\"MAE\"] < 0.5].reset_index(drop=True)\n",
    "candidates.describe()"
   ]
  },
  {
   "cell_type": "code",
   "execution_count": 56,
   "metadata": {},
   "outputs": [
    {
     "data": {
      "image/png": "[encoded data removed]",
      "text/plain": "<Figure size 1200x800 with 1 Axes>"
     },
     "metadata": {},
     "output_type": "display_data"
    }
   ],
   "source": [
    "candidates.boxplot(column=[\"w1\", \"w2\", \"w3\", \"w4\", \"w5\"], fontsize=16, rot=0, grid=True, figsize=(12,8))\n",
    "plt.show()"
   ]
  },
  {
   "cell_type": "code",
   "execution_count": 57,
   "metadata": {},
   "outputs": [
    {
     "data": {
      "text/plain": "array([0.4746667 , 0.38459114, 0.02325903, 0.01011468, 0.00797359])"
     },
     "execution_count": 57,
     "metadata": {},
     "output_type": "execute_result"
    }
   ],
   "source": [
    "median_weights = candidates.iloc[:, 0:5].median().values\n",
    "median_weights"
   ]
  },
  {
   "cell_type": "code",
   "execution_count": 58,
   "metadata": {},
   "outputs": [
    {
     "data": {
      "text/plain": "array([0.4742103 , 0.3708994 , 0.05149644, 0.05971157, 0.04368229])"
     },
     "execution_count": 58,
     "metadata": {},
     "output_type": "execute_result"
    }
   ],
   "source": [
    "mean_weights = candidates.iloc[:, 0:5].mean().values\n",
    "mean_weights"
   ]
  },
  {
   "cell_type": "code",
   "execution_count": 106,
   "metadata": {},
   "outputs": [],
   "source": [
    "for j in range(len(data_2223)):\n",
    "    # Calculate the predictions\n",
    "    data_2223.at[j, \"Score\"] = weights_df.at[0, \"w1\"] * data_2223.at[j, \"WP\"] +\\\n",
    "                               weights_df.at[0, \"w2\"] * data_2223.at[j, \"OWP\"] +\\\n",
    "                               weights_df.at[0, \"w3\"] * data_2223.at[j, \"DOWP\"] +\\\n",
    "                               weights_df.at[0, \"w4\"] * data_2223.at[j, \"OOWP\"] +\\\n",
    "                               weights_df.at[0, \"w5\"] * data_2223.at[j, \"DOOWP\"]\n",
    "# Organize the DataFrame by Division, Sectional, and Prediction\n",
    "data_2223 = data_2223.sort_values(by=[\n",
    "    \"Division\",\n",
    "    \"Sectional\",\n",
    "    \"Score\"\n",
    "]).reset_index(drop=True)\n",
    "# Calculate the seeds\n",
    "data_2223[\"Predicted_Seed\"] = data_2223.groupby([\"Division\", \"Sectional\"]).cumcount(ascending=False) + 1\n",
    "data_2223[\"Error\"] = np.abs(data_2223[\"Seed\"] - data_2223[\"Predicted_Seed\"])"
   ]
  },
  {
   "cell_type": "code",
   "execution_count": 107,
   "metadata": {},
   "outputs": [
    {
     "name": "stdout",
     "output_type": "stream",
     "text": [
      "196\n"
     ]
    }
   ],
   "source": [
    "total_abs_error = np.sum(data_2223[\"Error\"])\n",
    "print(total_abs_error)"
   ]
  },
  {
   "cell_type": "code",
   "execution_count": 108,
   "metadata": {},
   "outputs": [
    {
     "name": "stdout",
     "output_type": "stream",
     "text": [
      "0.42701525054466233\n"
     ]
    }
   ],
   "source": [
    "mae = total_abs_error / len(data_2223)\n",
    "print(mae)"
   ]
  },
  {
   "cell_type": "code",
   "execution_count": 111,
   "metadata": {},
   "outputs": [
    {
     "data": {
      "text/html": "<div>\n<style scoped>\n    .dataframe tbody tr th:only-of-type {\n        vertical-align: middle;\n    }\n\n    .dataframe tbody tr th {\n        vertical-align: top;\n    }\n\n    .dataframe thead th {\n        text-align: right;\n    }\n</style>\n<table border=\"1\" class=\"dataframe\">\n  <thead>\n    <tr style=\"text-align: right;\">\n      <th></th>\n      <th>Team</th>\n      <th>WP</th>\n      <th>OWP</th>\n      <th>DOWP</th>\n      <th>OOWP</th>\n      <th>DOOWP</th>\n      <th>Division</th>\n      <th>Sectional</th>\n      <th>Seed</th>\n      <th>Year</th>\n      <th>Score</th>\n      <th>Predicted_Seed</th>\n      <th>Error</th>\n    </tr>\n  </thead>\n  <tbody>\n    <tr>\n      <th>0</th>\n      <td>Assumption</td>\n      <td>0.80952</td>\n      <td>0.55079</td>\n      <td>0.54154</td>\n      <td>0.52879</td>\n      <td>0.52598</td>\n      <td>5</td>\n      <td>2A</td>\n      <td>1</td>\n      <td>2023</td>\n      <td>0.658358</td>\n      <td>1</td>\n      <td>0</td>\n    </tr>\n    <tr>\n      <th>1</th>\n      <td>Edgar</td>\n      <td>0.77273</td>\n      <td>0.51685</td>\n      <td>0.47678</td>\n      <td>0.52843</td>\n      <td>0.53692</td>\n      <td>5</td>\n      <td>2A</td>\n      <td>2</td>\n      <td>2023</td>\n      <td>0.628599</td>\n      <td>3</td>\n      <td>1</td>\n    </tr>\n    <tr>\n      <th>2</th>\n      <td>Athens</td>\n      <td>0.86957</td>\n      <td>0.45740</td>\n      <td>0.39833</td>\n      <td>0.53085</td>\n      <td>0.52574</td>\n      <td>5</td>\n      <td>2A</td>\n      <td>3</td>\n      <td>2023</td>\n      <td>0.644446</td>\n      <td>2</td>\n      <td>1</td>\n    </tr>\n    <tr>\n      <th>3</th>\n      <td>Iola-Scandinavia</td>\n      <td>0.75000</td>\n      <td>0.49340</td>\n      <td>0.41631</td>\n      <td>0.49688</td>\n      <td>0.51113</td>\n      <td>5</td>\n      <td>2A</td>\n      <td>4</td>\n      <td>2023</td>\n      <td>0.601744</td>\n      <td>4</td>\n      <td>0</td>\n    </tr>\n    <tr>\n      <th>4</th>\n      <td>Almond-Bancroft</td>\n      <td>0.86364</td>\n      <td>0.36387</td>\n      <td>0.35599</td>\n      <td>0.47081</td>\n      <td>0.44495</td>\n      <td>5</td>\n      <td>2A</td>\n      <td>5</td>\n      <td>2023</td>\n      <td>0.596016</td>\n      <td>5</td>\n      <td>0</td>\n    </tr>\n    <tr>\n      <th>5</th>\n      <td>Columbus Catholic</td>\n      <td>0.60870</td>\n      <td>0.55013</td>\n      <td>0.36316</td>\n      <td>0.53009</td>\n      <td>0.54700</td>\n      <td>5</td>\n      <td>2A</td>\n      <td>6</td>\n      <td>2023</td>\n      <td>0.558484</td>\n      <td>6</td>\n      <td>0</td>\n    </tr>\n    <tr>\n      <th>6</th>\n      <td>Newman Catholic</td>\n      <td>0.50000</td>\n      <td>0.52010</td>\n      <td>0.37981</td>\n      <td>0.52054</td>\n      <td>0.51833</td>\n      <td>5</td>\n      <td>2A</td>\n      <td>7</td>\n      <td>2023</td>\n      <td>0.498525</td>\n      <td>8</td>\n      <td>1</td>\n    </tr>\n    <tr>\n      <th>7</th>\n      <td>Rosholt</td>\n      <td>0.54545</td>\n      <td>0.48794</td>\n      <td>0.33184</td>\n      <td>0.49232</td>\n      <td>0.52329</td>\n      <td>5</td>\n      <td>2A</td>\n      <td>8</td>\n      <td>2023</td>\n      <td>0.505581</td>\n      <td>7</td>\n      <td>1</td>\n    </tr>\n    <tr>\n      <th>8</th>\n      <td>Pacelli</td>\n      <td>0.50000</td>\n      <td>0.51436</td>\n      <td>0.37126</td>\n      <td>0.49665</td>\n      <td>0.48403</td>\n      <td>5</td>\n      <td>2A</td>\n      <td>9</td>\n      <td>2023</td>\n      <td>0.489843</td>\n      <td>9</td>\n      <td>0</td>\n    </tr>\n    <tr>\n      <th>9</th>\n      <td>Gresham</td>\n      <td>0.57143</td>\n      <td>0.42597</td>\n      <td>0.31126</td>\n      <td>0.47993</td>\n      <td>0.47687</td>\n      <td>5</td>\n      <td>2A</td>\n      <td>10</td>\n      <td>2023</td>\n      <td>0.488504</td>\n      <td>10</td>\n      <td>0</td>\n    </tr>\n    <tr>\n      <th>10</th>\n      <td>Northland Lutheran</td>\n      <td>0.50000</td>\n      <td>0.42693</td>\n      <td>0.22137</td>\n      <td>0.47363</td>\n      <td>0.48808</td>\n      <td>5</td>\n      <td>2A</td>\n      <td>11</td>\n      <td>2023</td>\n      <td>0.451656</td>\n      <td>11</td>\n      <td>0</td>\n    </tr>\n    <tr>\n      <th>11</th>\n      <td>Prentice</td>\n      <td>0.31818</td>\n      <td>0.52475</td>\n      <td>0.21094</td>\n      <td>0.51921</td>\n      <td>0.52257</td>\n      <td>5</td>\n      <td>2A</td>\n      <td>12</td>\n      <td>2023</td>\n      <td>0.40629</td>\n      <td>12</td>\n      <td>0</td>\n    </tr>\n    <tr>\n      <th>12</th>\n      <td>Tri-County</td>\n      <td>0.29412</td>\n      <td>0.42593</td>\n      <td>0.12821</td>\n      <td>0.45544</td>\n      <td>0.44678</td>\n      <td>5</td>\n      <td>2A</td>\n      <td>13</td>\n      <td>2023</td>\n      <td>0.345717</td>\n      <td>13</td>\n      <td>0</td>\n    </tr>\n    <tr>\n      <th>13</th>\n      <td>Rib Lake</td>\n      <td>0.15000</td>\n      <td>0.54707</td>\n      <td>0.22917</td>\n      <td>0.51348</td>\n      <td>0.50047</td>\n      <td>5</td>\n      <td>2A</td>\n      <td>14</td>\n      <td>2023</td>\n      <td>0.337031</td>\n      <td>14</td>\n      <td>0</td>\n    </tr>\n    <tr>\n      <th>14</th>\n      <td>Tigerton</td>\n      <td>0.06667</td>\n      <td>0.43561</td>\n      <td>0.28571</td>\n      <td>0.45858</td>\n      <td>0.44785</td>\n      <td>5</td>\n      <td>2A</td>\n      <td>15</td>\n      <td>2023</td>\n      <td>0.263502</td>\n      <td>15</td>\n      <td>0</td>\n    </tr>\n    <tr>\n      <th>15</th>\n      <td>Port Edwards</td>\n      <td>0.00000</td>\n      <td>0.50641</td>\n      <td>0.00000</td>\n      <td>0.46423</td>\n      <td>0.48211</td>\n      <td>5</td>\n      <td>2A</td>\n      <td>16</td>\n      <td>2023</td>\n      <td>0.235943</td>\n      <td>16</td>\n      <td>0</td>\n    </tr>\n  </tbody>\n</table>\n</div>",
      "text/plain": "                  Team       WP      OWP     DOWP     OOWP    DOOWP  Division  \\\n0           Assumption  0.80952  0.55079  0.54154  0.52879  0.52598         5   \n1                Edgar  0.77273  0.51685  0.47678  0.52843  0.53692         5   \n2               Athens  0.86957  0.45740  0.39833  0.53085  0.52574         5   \n3     Iola-Scandinavia  0.75000  0.49340  0.41631  0.49688  0.51113         5   \n4      Almond-Bancroft  0.86364  0.36387  0.35599  0.47081  0.44495         5   \n5    Columbus Catholic  0.60870  0.55013  0.36316  0.53009  0.54700         5   \n6      Newman Catholic  0.50000  0.52010  0.37981  0.52054  0.51833         5   \n7              Rosholt  0.54545  0.48794  0.33184  0.49232  0.52329         5   \n8              Pacelli  0.50000  0.51436  0.37126  0.49665  0.48403         5   \n9              Gresham  0.57143  0.42597  0.31126  0.47993  0.47687         5   \n10  Northland Lutheran  0.50000  0.42693  0.22137  0.47363  0.48808         5   \n11            Prentice  0.31818  0.52475  0.21094  0.51921  0.52257         5   \n12          Tri-County  0.29412  0.42593  0.12821  0.45544  0.44678         5   \n13            Rib Lake  0.15000  0.54707  0.22917  0.51348  0.50047         5   \n14            Tigerton  0.06667  0.43561  0.28571  0.45858  0.44785         5   \n15        Port Edwards  0.00000  0.50641  0.00000  0.46423  0.48211         5   \n\n   Sectional  Seed  Year     Score  Predicted_Seed  Error  \n0         2A     1  2023  0.658358               1      0  \n1         2A     2  2023  0.628599               3      1  \n2         2A     3  2023  0.644446               2      1  \n3         2A     4  2023  0.601744               4      0  \n4         2A     5  2023  0.596016               5      0  \n5         2A     6  2023  0.558484               6      0  \n6         2A     7  2023  0.498525               8      1  \n7         2A     8  2023  0.505581               7      1  \n8         2A     9  2023  0.489843               9      0  \n9         2A    10  2023  0.488504              10      0  \n10        2A    11  2023  0.451656              11      0  \n11        2A    12  2023   0.40629              12      0  \n12        2A    13  2023  0.345717              13      0  \n13        2A    14  2023  0.337031              14      0  \n14        2A    15  2023  0.263502              15      0  \n15        2A    16  2023  0.235943              16      0  "
     },
     "execution_count": 111,
     "metadata": {},
     "output_type": "execute_result"
    }
   ],
   "source": [
    "data_2223[(data_2223[\"Division\"] == 5) & (data_2223[\"Sectional\"] ==\"2A\")].sort_values(by=\"Seed\").reset_index(drop=True)"
   ]
  },
  {
   "cell_type": "code",
   "execution_count": 112,
   "metadata": {},
   "outputs": [
    {
     "data": {
      "text/html": "<div>\n<style scoped>\n    .dataframe tbody tr th:only-of-type {\n        vertical-align: middle;\n    }\n\n    .dataframe tbody tr th {\n        vertical-align: top;\n    }\n\n    .dataframe thead th {\n        text-align: right;\n    }\n</style>\n<table border=\"1\" class=\"dataframe\">\n  <thead>\n    <tr style=\"text-align: right;\">\n      <th></th>\n      <th>Team</th>\n      <th>WP</th>\n      <th>OWP</th>\n      <th>DOWP</th>\n      <th>OOWP</th>\n      <th>DOOWP</th>\n      <th>Division</th>\n      <th>Sectional</th>\n      <th>Seed</th>\n      <th>Year</th>\n      <th>Score</th>\n      <th>Predicted_Seed</th>\n      <th>Error</th>\n    </tr>\n  </thead>\n  <tbody>\n    <tr>\n      <th>0</th>\n      <td>Wabeno/Laona</td>\n      <td>0.72727</td>\n      <td>0.62664</td>\n      <td>0.52419</td>\n      <td>0.52389</td>\n      <td>0.51860</td>\n      <td>5</td>\n      <td>2B</td>\n      <td>1</td>\n      <td>2023</td>\n      <td>0.641777</td>\n      <td>3</td>\n      <td>2</td>\n    </tr>\n    <tr>\n      <th>1</th>\n      <td>Sevastopol</td>\n      <td>0.95238</td>\n      <td>0.46891</td>\n      <td>0.40187</td>\n      <td>0.51599</td>\n      <td>0.50353</td>\n      <td>5</td>\n      <td>2B</td>\n      <td>2</td>\n      <td>2023</td>\n      <td>0.680224</td>\n      <td>1</td>\n      <td>1</td>\n    </tr>\n    <tr>\n      <th>2</th>\n      <td>Lena</td>\n      <td>0.85714</td>\n      <td>0.47468</td>\n      <td>0.41091</td>\n      <td>0.49633</td>\n      <td>0.52648</td>\n      <td>5</td>\n      <td>2B</td>\n      <td>3</td>\n      <td>2023</td>\n      <td>0.645332</td>\n      <td>2</td>\n      <td>1</td>\n    </tr>\n    <tr>\n      <th>3</th>\n      <td>Niagara</td>\n      <td>0.77273</td>\n      <td>0.47541</td>\n      <td>0.41364</td>\n      <td>0.52350</td>\n      <td>0.54941</td>\n      <td>5</td>\n      <td>2B</td>\n      <td>4</td>\n      <td>2023</td>\n      <td>0.613126</td>\n      <td>4</td>\n      <td>0</td>\n    </tr>\n    <tr>\n      <th>4</th>\n      <td>Three Lakes</td>\n      <td>0.57143</td>\n      <td>0.54958</td>\n      <td>0.39614</td>\n      <td>0.51741</td>\n      <td>0.54261</td>\n      <td>5</td>\n      <td>2B</td>\n      <td>5</td>\n      <td>2023</td>\n      <td>0.544194</td>\n      <td>6</td>\n      <td>1</td>\n    </tr>\n    <tr>\n      <th>5</th>\n      <td>Florence</td>\n      <td>0.61905</td>\n      <td>0.51840</td>\n      <td>0.39000</td>\n      <td>0.51227</td>\n      <td>0.50680</td>\n      <td>5</td>\n      <td>2B</td>\n      <td>6</td>\n      <td>2023</td>\n      <td>0.548787</td>\n      <td>5</td>\n      <td>1</td>\n    </tr>\n    <tr>\n      <th>6</th>\n      <td>Suring</td>\n      <td>0.50000</td>\n      <td>0.58642</td>\n      <td>0.37821</td>\n      <td>0.51043</td>\n      <td>0.49747</td>\n      <td>5</td>\n      <td>2B</td>\n      <td>7</td>\n      <td>2023</td>\n      <td>0.513996</td>\n      <td>7</td>\n      <td>0</td>\n    </tr>\n    <tr>\n      <th>7</th>\n      <td>Gillett</td>\n      <td>0.50000</td>\n      <td>0.44954</td>\n      <td>0.32683</td>\n      <td>0.50837</td>\n      <td>0.52269</td>\n      <td>5</td>\n      <td>2B</td>\n      <td>8</td>\n      <td>2023</td>\n      <td>0.473954</td>\n      <td>8</td>\n      <td>0</td>\n    </tr>\n    <tr>\n      <th>8</th>\n      <td>Wausaukee</td>\n      <td>0.35000</td>\n      <td>0.51316</td>\n      <td>0.26126</td>\n      <td>0.50391</td>\n      <td>0.48589</td>\n      <td>5</td>\n      <td>2B</td>\n      <td>9</td>\n      <td>2023</td>\n      <td>0.414586</td>\n      <td>9</td>\n      <td>0</td>\n    </tr>\n    <tr>\n      <th>9</th>\n      <td>Bowler</td>\n      <td>0.37500</td>\n      <td>0.43357</td>\n      <td>0.18421</td>\n      <td>0.46639</td>\n      <td>0.44098</td>\n      <td>5</td>\n      <td>2B</td>\n      <td>10</td>\n      <td>2023</td>\n      <td>0.387175</td>\n      <td>11</td>\n      <td>1</td>\n    </tr>\n    <tr>\n      <th>10</th>\n      <td>Elcho</td>\n      <td>0.22222</td>\n      <td>0.46382</td>\n      <td>0.17857</td>\n      <td>0.47471</td>\n      <td>0.55116</td>\n      <td>5</td>\n      <td>2B</td>\n      <td>11</td>\n      <td>2023</td>\n      <td>0.348904</td>\n      <td>13</td>\n      <td>2</td>\n    </tr>\n    <tr>\n      <th>11</th>\n      <td>Goodman/Pembine</td>\n      <td>0.31579</td>\n      <td>0.47569</td>\n      <td>0.40000</td>\n      <td>0.49239</td>\n      <td>0.45696</td>\n      <td>5</td>\n      <td>2B</td>\n      <td>12</td>\n      <td>2023</td>\n      <td>0.39577</td>\n      <td>10</td>\n      <td>2</td>\n    </tr>\n    <tr>\n      <th>12</th>\n      <td>Gibraltar</td>\n      <td>0.13636</td>\n      <td>0.44932</td>\n      <td>0.22951</td>\n      <td>0.50178</td>\n      <td>0.52546</td>\n      <td>5</td>\n      <td>2B</td>\n      <td>13</td>\n      <td>2023</td>\n      <td>0.307049</td>\n      <td>14</td>\n      <td>1</td>\n    </tr>\n    <tr>\n      <th>13</th>\n      <td>Saint Thomas Aquinas</td>\n      <td>0.18750</td>\n      <td>0.48770</td>\n      <td>0.50000</td>\n      <td>0.49639</td>\n      <td>0.51117</td>\n      <td>5</td>\n      <td>2B</td>\n      <td>14</td>\n      <td>2023</td>\n      <td>0.362063</td>\n      <td>12</td>\n      <td>2</td>\n    </tr>\n  </tbody>\n</table>\n</div>",
      "text/plain": "                    Team       WP      OWP     DOWP     OOWP    DOOWP  \\\n0           Wabeno/Laona  0.72727  0.62664  0.52419  0.52389  0.51860   \n1             Sevastopol  0.95238  0.46891  0.40187  0.51599  0.50353   \n2                   Lena  0.85714  0.47468  0.41091  0.49633  0.52648   \n3                Niagara  0.77273  0.47541  0.41364  0.52350  0.54941   \n4            Three Lakes  0.57143  0.54958  0.39614  0.51741  0.54261   \n5               Florence  0.61905  0.51840  0.39000  0.51227  0.50680   \n6                 Suring  0.50000  0.58642  0.37821  0.51043  0.49747   \n7                Gillett  0.50000  0.44954  0.32683  0.50837  0.52269   \n8              Wausaukee  0.35000  0.51316  0.26126  0.50391  0.48589   \n9                 Bowler  0.37500  0.43357  0.18421  0.46639  0.44098   \n10                 Elcho  0.22222  0.46382  0.17857  0.47471  0.55116   \n11       Goodman/Pembine  0.31579  0.47569  0.40000  0.49239  0.45696   \n12             Gibraltar  0.13636  0.44932  0.22951  0.50178  0.52546   \n13  Saint Thomas Aquinas  0.18750  0.48770  0.50000  0.49639  0.51117   \n\n    Division Sectional  Seed  Year     Score  Predicted_Seed  Error  \n0          5        2B     1  2023  0.641777               3      2  \n1          5        2B     2  2023  0.680224               1      1  \n2          5        2B     3  2023  0.645332               2      1  \n3          5        2B     4  2023  0.613126               4      0  \n4          5        2B     5  2023  0.544194               6      1  \n5          5        2B     6  2023  0.548787               5      1  \n6          5        2B     7  2023  0.513996               7      0  \n7          5        2B     8  2023  0.473954               8      0  \n8          5        2B     9  2023  0.414586               9      0  \n9          5        2B    10  2023  0.387175              11      1  \n10         5        2B    11  2023  0.348904              13      2  \n11         5        2B    12  2023   0.39577              10      2  \n12         5        2B    13  2023  0.307049              14      1  \n13         5        2B    14  2023  0.362063              12      2  "
     },
     "execution_count": 112,
     "metadata": {},
     "output_type": "execute_result"
    }
   ],
   "source": [
    "data_2223[(data_2223[\"Division\"] == 5) & (data_2223[\"Sectional\"] ==\"2B\")].sort_values(by=\"Seed\").reset_index(drop=True)"
   ]
  },
  {
   "cell_type": "code",
   "execution_count": 113,
   "metadata": {},
   "outputs": [],
   "source": [
    "for j in range(len(data_2223)):\n",
    "    # Calculate the predictions\n",
    "    data_2223.at[j, \"Score\"] = 0.45 * data_2223.at[j, \"WP\"] +\\\n",
    "                                0.40 * data_2223.at[j, \"OWP\"] +\\\n",
    "                                0.05 * data_2223.at[j, \"DOWP\"] +\\\n",
    "                                0.05 * data_2223.at[j, \"OOWP\"] +\\\n",
    "                                0.05 * data_2223.at[j, \"DOOWP\"]\n",
    "# Organize the DataFrame by Division, Sectional, and Prediction\n",
    "data_2223 = data_2223.sort_values(by=[\n",
    "    \"Division\",\n",
    "    \"Sectional\",\n",
    "    \"Score\"\n",
    "]).reset_index(drop=True)\n",
    "# Calculate the seeds\n",
    "data_2223[\"Predicted_Seed\"] = data_2223.groupby([\"Division\", \"Sectional\"]).cumcount(ascending=False) + 1\n",
    "data_2223[\"Error\"] = np.abs(data_2223[\"Seed\"] - data_2223[\"Predicted_Seed\"])"
   ]
  },
  {
   "cell_type": "code",
   "execution_count": 141,
   "metadata": {},
   "outputs": [
    {
     "name": "stdout",
     "output_type": "stream",
     "text": [
      "Total error: 200\n",
      "Mean absolute error: 0.4357298474945534\n"
     ]
    }
   ],
   "source": [
    "print(\"Total error: \"+str(np.sum(data_2223[\"Error\"])))\n",
    "print(\"Mean absolute error: \"+str(np.sum(data_2223[\"Error\"]/len(data_2223))))"
   ]
  },
  {
   "cell_type": "code",
   "execution_count": 140,
   "metadata": {},
   "outputs": [
    {
     "data": {
      "text/html": "<div>\n<style scoped>\n    .dataframe tbody tr th:only-of-type {\n        vertical-align: middle;\n    }\n\n    .dataframe tbody tr th {\n        vertical-align: top;\n    }\n\n    .dataframe thead th {\n        text-align: right;\n    }\n</style>\n<table border=\"1\" class=\"dataframe\">\n  <thead>\n    <tr style=\"text-align: right;\">\n      <th></th>\n      <th>Team</th>\n      <th>WP</th>\n      <th>OWP</th>\n      <th>DOWP</th>\n      <th>OOWP</th>\n      <th>DOOWP</th>\n      <th>Division</th>\n      <th>Sectional</th>\n      <th>Seed</th>\n      <th>Year</th>\n      <th>Score</th>\n      <th>Predicted_Seed</th>\n      <th>Error</th>\n    </tr>\n  </thead>\n  <tbody>\n    <tr>\n      <th>0</th>\n      <td>Neenah</td>\n      <td>0.95652</td>\n      <td>0.58158</td>\n      <td>0.59226</td>\n      <td>0.56107</td>\n      <td>0.58390</td>\n      <td>1</td>\n      <td>1A</td>\n      <td>1</td>\n      <td>2023</td>\n      <td>0.758807</td>\n      <td>1</td>\n      <td>0</td>\n    </tr>\n    <tr>\n      <th>1</th>\n      <td>Superior</td>\n      <td>0.95238</td>\n      <td>0.53456</td>\n      <td>0.52417</td>\n      <td>0.51532</td>\n      <td>0.53143</td>\n      <td>1</td>\n      <td>1A</td>\n      <td>2</td>\n      <td>2023</td>\n      <td>0.730874</td>\n      <td>2</td>\n      <td>0</td>\n    </tr>\n    <tr>\n      <th>2</th>\n      <td>Hortonville</td>\n      <td>0.86364</td>\n      <td>0.61972</td>\n      <td>0.58710</td>\n      <td>0.55254</td>\n      <td>0.56861</td>\n      <td>1</td>\n      <td>1A</td>\n      <td>3</td>\n      <td>2023</td>\n      <td>0.727466</td>\n      <td>3</td>\n      <td>0</td>\n    </tr>\n    <tr>\n      <th>3</th>\n      <td>Hudson</td>\n      <td>0.86364</td>\n      <td>0.60000</td>\n      <td>0.55636</td>\n      <td>0.54941</td>\n      <td>0.52959</td>\n      <td>1</td>\n      <td>1A</td>\n      <td>4</td>\n      <td>2023</td>\n      <td>0.716677</td>\n      <td>4</td>\n      <td>0</td>\n    </tr>\n    <tr>\n      <th>4</th>\n      <td>Eau Claire Memorial</td>\n      <td>0.76190</td>\n      <td>0.55754</td>\n      <td>0.49609</td>\n      <td>0.53870</td>\n      <td>0.53768</td>\n      <td>1</td>\n      <td>1A</td>\n      <td>5</td>\n      <td>2023</td>\n      <td>0.649293</td>\n      <td>6</td>\n      <td>1</td>\n    </tr>\n    <tr>\n      <th>5</th>\n      <td>Marshfield</td>\n      <td>0.78261</td>\n      <td>0.55204</td>\n      <td>0.46429</td>\n      <td>0.54013</td>\n      <td>0.54103</td>\n      <td>1</td>\n      <td>1A</td>\n      <td>6</td>\n      <td>2023</td>\n      <td>0.655668</td>\n      <td>5</td>\n      <td>1</td>\n    </tr>\n    <tr>\n      <th>6</th>\n      <td>Wausau West</td>\n      <td>0.61905</td>\n      <td>0.54157</td>\n      <td>0.44344</td>\n      <td>0.55554</td>\n      <td>0.53065</td>\n      <td>1</td>\n      <td>1A</td>\n      <td>7</td>\n      <td>2023</td>\n      <td>0.573616</td>\n      <td>8</td>\n      <td>1</td>\n    </tr>\n    <tr>\n      <th>7</th>\n      <td>Stevens Point</td>\n      <td>0.68182</td>\n      <td>0.50714</td>\n      <td>0.39592</td>\n      <td>0.53988</td>\n      <td>0.55217</td>\n      <td>1</td>\n      <td>1A</td>\n      <td>8</td>\n      <td>2023</td>\n      <td>0.58817</td>\n      <td>7</td>\n      <td>1</td>\n    </tr>\n    <tr>\n      <th>8</th>\n      <td>Oshkosh West</td>\n      <td>0.65217</td>\n      <td>0.49292</td>\n      <td>0.35417</td>\n      <td>0.55354</td>\n      <td>0.54250</td>\n      <td>1</td>\n      <td>1A</td>\n      <td>9</td>\n      <td>2023</td>\n      <td>0.567078</td>\n      <td>9</td>\n      <td>0</td>\n    </tr>\n    <tr>\n      <th>9</th>\n      <td>Appleton East</td>\n      <td>0.47826</td>\n      <td>0.61003</td>\n      <td>0.48333</td>\n      <td>0.54358</td>\n      <td>0.54667</td>\n      <td>1</td>\n      <td>1A</td>\n      <td>10</td>\n      <td>2023</td>\n      <td>0.534283</td>\n      <td>11</td>\n      <td>1</td>\n    </tr>\n    <tr>\n      <th>10</th>\n      <td>Holmen</td>\n      <td>0.56522</td>\n      <td>0.52311</td>\n      <td>0.37344</td>\n      <td>0.52923</td>\n      <td>0.53335</td>\n      <td>1</td>\n      <td>1A</td>\n      <td>11</td>\n      <td>2023</td>\n      <td>0.536184</td>\n      <td>10</td>\n      <td>1</td>\n    </tr>\n    <tr>\n      <th>11</th>\n      <td>Appleton North</td>\n      <td>0.39130</td>\n      <td>0.57022</td>\n      <td>0.42373</td>\n      <td>0.54212</td>\n      <td>0.56438</td>\n      <td>1</td>\n      <td>1A</td>\n      <td>12</td>\n      <td>2023</td>\n      <td>0.475898</td>\n      <td>13</td>\n      <td>1</td>\n    </tr>\n    <tr>\n      <th>12</th>\n      <td>Eau Claire North</td>\n      <td>0.47619</td>\n      <td>0.49856</td>\n      <td>0.37629</td>\n      <td>0.54080</td>\n      <td>0.53666</td>\n      <td>1</td>\n      <td>1A</td>\n      <td>13</td>\n      <td>2023</td>\n      <td>0.485842</td>\n      <td>12</td>\n      <td>1</td>\n    </tr>\n    <tr>\n      <th>13</th>\n      <td>Oshkosh North</td>\n      <td>0.36364</td>\n      <td>0.50301</td>\n      <td>0.37143</td>\n      <td>0.54298</td>\n      <td>0.57116</td>\n      <td>1</td>\n      <td>1A</td>\n      <td>14</td>\n      <td>2023</td>\n      <td>0.435507</td>\n      <td>14</td>\n      <td>0</td>\n    </tr>\n    <tr>\n      <th>14</th>\n      <td>Appleton West</td>\n      <td>0.18182</td>\n      <td>0.57867</td>\n      <td>0.40909</td>\n      <td>0.54617</td>\n      <td>0.55521</td>\n      <td>1</td>\n      <td>1A</td>\n      <td>15</td>\n      <td>2023</td>\n      <td>0.378781</td>\n      <td>16</td>\n      <td>1</td>\n    </tr>\n    <tr>\n      <th>15</th>\n      <td>Wisconsin Rapids</td>\n      <td>0.26087</td>\n      <td>0.55502</td>\n      <td>0.28440</td>\n      <td>0.51675</td>\n      <td>0.50573</td>\n      <td>1</td>\n      <td>1A</td>\n      <td>16</td>\n      <td>2023</td>\n      <td>0.397157</td>\n      <td>15</td>\n      <td>1</td>\n    </tr>\n    <tr>\n      <th>16</th>\n      <td>D.C. Everest</td>\n      <td>0.18182</td>\n      <td>0.51889</td>\n      <td>0.44118</td>\n      <td>0.52844</td>\n      <td>0.52873</td>\n      <td>1</td>\n      <td>1A</td>\n      <td>17</td>\n      <td>2023</td>\n      <td>0.356046</td>\n      <td>17</td>\n      <td>0</td>\n    </tr>\n    <tr>\n      <th>17</th>\n      <td>Chippewa Falls</td>\n      <td>0.04545</td>\n      <td>0.52332</td>\n      <td>0.18182</td>\n      <td>0.53502</td>\n      <td>0.52967</td>\n      <td>1</td>\n      <td>1A</td>\n      <td>18</td>\n      <td>2023</td>\n      <td>0.280099</td>\n      <td>18</td>\n      <td>0</td>\n    </tr>\n  </tbody>\n</table>\n</div>",
      "text/plain": "                   Team       WP      OWP     DOWP     OOWP    DOOWP  \\\n0                Neenah  0.95652  0.58158  0.59226  0.56107  0.58390   \n1              Superior  0.95238  0.53456  0.52417  0.51532  0.53143   \n2           Hortonville  0.86364  0.61972  0.58710  0.55254  0.56861   \n3                Hudson  0.86364  0.60000  0.55636  0.54941  0.52959   \n4   Eau Claire Memorial  0.76190  0.55754  0.49609  0.53870  0.53768   \n5            Marshfield  0.78261  0.55204  0.46429  0.54013  0.54103   \n6           Wausau West  0.61905  0.54157  0.44344  0.55554  0.53065   \n7         Stevens Point  0.68182  0.50714  0.39592  0.53988  0.55217   \n8          Oshkosh West  0.65217  0.49292  0.35417  0.55354  0.54250   \n9         Appleton East  0.47826  0.61003  0.48333  0.54358  0.54667   \n10               Holmen  0.56522  0.52311  0.37344  0.52923  0.53335   \n11       Appleton North  0.39130  0.57022  0.42373  0.54212  0.56438   \n12     Eau Claire North  0.47619  0.49856  0.37629  0.54080  0.53666   \n13        Oshkosh North  0.36364  0.50301  0.37143  0.54298  0.57116   \n14        Appleton West  0.18182  0.57867  0.40909  0.54617  0.55521   \n15     Wisconsin Rapids  0.26087  0.55502  0.28440  0.51675  0.50573   \n16         D.C. Everest  0.18182  0.51889  0.44118  0.52844  0.52873   \n17       Chippewa Falls  0.04545  0.52332  0.18182  0.53502  0.52967   \n\n    Division Sectional  Seed  Year     Score  Predicted_Seed  Error  \n0          1        1A     1  2023  0.758807               1      0  \n1          1        1A     2  2023  0.730874               2      0  \n2          1        1A     3  2023  0.727466               3      0  \n3          1        1A     4  2023  0.716677               4      0  \n4          1        1A     5  2023  0.649293               6      1  \n5          1        1A     6  2023  0.655668               5      1  \n6          1        1A     7  2023  0.573616               8      1  \n7          1        1A     8  2023   0.58817               7      1  \n8          1        1A     9  2023  0.567078               9      0  \n9          1        1A    10  2023  0.534283              11      1  \n10         1        1A    11  2023  0.536184              10      1  \n11         1        1A    12  2023  0.475898              13      1  \n12         1        1A    13  2023  0.485842              12      1  \n13         1        1A    14  2023  0.435507              14      0  \n14         1        1A    15  2023  0.378781              16      1  \n15         1        1A    16  2023  0.397157              15      1  \n16         1        1A    17  2023  0.356046              17      0  \n17         1        1A    18  2023  0.280099              18      0  "
     },
     "execution_count": 140,
     "metadata": {},
     "output_type": "execute_result"
    }
   ],
   "source": [
    "data_2223[(data_2223[\"Division\"] == 1) & (data_2223[\"Sectional\"].str.contains(\"1\"))].sort_values(by=[\"Sectional\", \"Seed\"]).reset_index(drop=True)"
   ]
  },
  {
   "cell_type": "markdown",
   "metadata": {},
   "source": [
    "```python\n",
    "data_2223.to_excel(\"seeding_preds_mean_model.xlsx\", index=False)\n",
    "```"
   ]
  }
 ],
 "metadata": {
  "kernelspec": {
   "display_name": "Python 3.8.11 64-bit ('base': conda)",
   "name": "python3811jvsc74a57bd0aa3873145ca639cddace5fddb5064414043058677aacbe00da33857b70366fde"
  },
  "language_info": {
   "codemirror_mode": {
    "name": "ipython",
    "version": 3
   },
   "file_extension": ".py",
   "mimetype": "text/x-python",
   "name": "python",
   "nbconvert_exporter": "python",
   "pygments_lexer": "ipython3",
   "version": "3.8.11"
  },
  "metadata": {
   "interpreter": {
    "hash": "aa3873145ca639cddace5fddb5064414043058677aacbe00da33857b70366fde"
   }
  },
  "orig_nbformat": 2
 },
 "nbformat": 4,
 "nbformat_minor": 2
}